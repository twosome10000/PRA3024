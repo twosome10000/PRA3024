{
  "nbformat": 4,
  "nbformat_minor": 0,
  "metadata": {
    "colab": {
      "name": "Week 3 PRA3024 Assignment.ipynb",
      "provenance": [],
      "collapsed_sections": [
        "gnMtE5GVyy1s",
        "7tlkY4eZzXtp",
        "CwBrXOpTQ4h-"
      ]
    },
    "kernelspec": {
      "name": "python3",
      "display_name": "Python 3"
    }
  },
  "cells": [
    {
      "cell_type": "markdown",
      "metadata": {
        "id": "_XO--CRlZ0uy",
        "colab_type": "text"
      },
      "source": [
        "#Week 3 PRA3024 Assignment\n",
        "#Michail-Georgios Papachristos\n",
        "#i6166863"
      ]
    },
    {
      "cell_type": "markdown",
      "metadata": {
        "id": "0A_EmZVsZ6KI",
        "colab_type": "text"
      },
      "source": [
        "In the following assignment, a code to compute the fisher matrix of some observables for a specific inputed waveform was programmed. Through the computed Fisher-Matrix, the standard deviation for each of the observables was calculated. The waveform h(f) was retrieved from the reaserch paper:\"Parameter estimation of inspiralling compact binaries using 3.5 post-Newtonian gravitational wave phasing: The non-spinning case\" with the Power Spectral Density S(f) of the Advanced LIGO being used. Furthermore, the Fisher-Matrix of another waveform h(f) which was retrieved from the bachelor thesis of Lizzy Reith was calculated and the Power Spectral Densities S(f) of both the Advanced LIGO and the Einstein Telescope were used. It should be mentioned that the data of the Power Spectral Densities were obtained from ELEUM."
      ]
    },
    {
      "cell_type": "markdown",
      "metadata": {
        "id": "HJPbnCRsd2Lp",
        "colab_type": "text"
      },
      "source": [
        "First, a code that calculates the Fisher Matrix for every waveform and Power Spectral Density needs to be made. The Fisher Matrix is defined as:\n",
        "\n",
        "![alt text](https://drive.google.com/uc?id=16LiFj3wAndmIEgBguu4ZRWk4SmUoZAJJ)\n",
        "\n",
        "where h is the waveform and S(f) the Power Spectral Density."
      ]
    },
    {
      "cell_type": "markdown",
      "metadata": {
        "id": "hKf_-Cg2gEZ9",
        "colab_type": "text"
      },
      "source": [
        "The necessary packages are imported first:"
      ]
    },
    {
      "cell_type": "code",
      "metadata": {
        "id": "mNGI7vRGgJPz",
        "colab_type": "code",
        "colab": {}
      },
      "source": [
        "import math\n",
        "import numpy as np\n",
        "import sympy as sympy\n",
        "from sympy import *\n",
        "from sympy import integrate \n",
        "from sympy import symbols, Derivative, log\n",
        "from sympy.utilities.lambdify import lambdify\n",
        "import scipy.integrate as integrate\n",
        "from numpy.linalg import inv\n",
        "import matplotlib.pyplot as plt\n"
      ],
      "execution_count": 0,
      "outputs": []
    },
    {
      "cell_type": "markdown",
      "metadata": {
        "id": "gnMtE5GVyy1s",
        "colab_type": "text"
      },
      "source": [
        "#Exercise 1: Writing a vanilla Fisher Matrix Code."
      ]
    },
    {
      "cell_type": "markdown",
      "metadata": {
        "id": "dVmJRf9egWkK",
        "colab_type": "text"
      },
      "source": [
        " The waveform in the research paper is defined as:\n",
        "\n",
        "![alt text](https://drive.google.com/uc?id=1pQ5TeTqcymKLuzHX6PrhgDRt5zzxITZ-)\n",
        "\n",
        "where:\n",
        "\n",
        "![alt text](https://drive.google.com/uc?id=1aKWs9nWbPnidBiY9c7tHLx_tZWDEbFdL)\n",
        "\n",
        "and SNR(Signal Noise Ratio) = 10.\n",
        "Furthermore, \n",
        "\n",
        "![alt text](https://drive.google.com/uc?id=1LpaQmQF0WfAaBNP1DHcBwdgINHqNSy87)\n",
        "\n",
        "with:\n",
        "\n",
        "![alt text](https://drive.google.com/uc?id=1TKn8phU6YwLFyhRH4tOnNr-i1oIZF2H0)\n",
        "\n",
        "and:\n",
        "\n",
        "![alt text](https://drive.google.com/uc?id=1MdY8RU7TcwsF0rvHiw8Pkmzyp4II9e4W)"
      ]
    },
    {
      "cell_type": "markdown",
      "metadata": {
        "id": "9aRXizGK1w6F",
        "colab_type": "text"
      },
      "source": [
        "It should be mentioned that the upper frequency is given by the equation:\n",
        "\n",
        "![alt text](https://drive.google.com/uc?id=1KJoQ88TCVQVzHK-0ABkMvbCfESm7FYAz)\n",
        "\n",
        "where M = 2 * 10^30 yields fu = 4374.05439771"
      ]
    },
    {
      "cell_type": "markdown",
      "metadata": {
        "id": "UVZheytPjUp3",
        "colab_type": "text"
      },
      "source": [
        "The data for the Power Spectral Density S(f) for the advanced LIGO was retrieved from ELEUM and from that a scatter plot was made in excel. The 5th order polynomial trendline of the scatter plot was used as the function for the Power Spectral Density. The scatter plot and the trendline are shown in the picture below:\n",
        "\n",
        "![alt text](https://drive.google.com/uc?id=10zT7o0fqn2O9yG6Hrf3V4KjkZfwTk9ha)\n",
        "\n",
        "A function is made for the Power Spectral Density in the following code:"
      ]
    },
    {
      "cell_type": "code",
      "metadata": {
        "id": "5ixtuR4bvjzD",
        "colab_type": "code",
        "colab": {}
      },
      "source": [
        "#Inputs the Power Spectral Density function for AdvancedLIGO.\n",
        "def S(f):\n",
        "  fs = 9\n",
        "  fu = 4374.05439771\n",
        "  return -(8*(10**(-40))*f**5) + ((2*10**(-35))*f**4) - ((10**(-31))*f**3) + ((3*10**(-28))*f**2) - ((4*10**(-25))*f) + 10**(-22)   "
      ],
      "execution_count": 0,
      "outputs": []
    },
    {
      "cell_type": "markdown",
      "metadata": {
        "id": "AZhC0VEZxhBF",
        "colab_type": "text"
      },
      "source": [
        "The constant A can be calculated through the following code:"
      ]
    },
    {
      "cell_type": "code",
      "metadata": {
        "id": "s56tHzopxmwu",
        "colab_type": "code",
        "outputId": "54d4d0c9-f4b0-4228-9ff9-443f7664bc4e",
        "colab": {
          "base_uri": "https://localhost:8080/",
          "height": 34
        }
      },
      "source": [
        "#fs and fu are used as lower and upper bound of integral.\n",
        "fs = 9\n",
        "fu = 4374.05439771\n",
        "\n",
        "#Calculates the integral required to calculate A.\n",
        "result = integrate.fixed_quad(lambda f: f**(-7/6)/S(f),fs,fu)\n",
        "\n",
        "#Calculates A.\n",
        "Asqr = 10/(4*result[0])\n",
        "A = math.sqrt(Asqr)\n",
        "print(\"A =\",A)"
      ],
      "execution_count": 3,
      "outputs": [
        {
          "output_type": "stream",
          "text": [
            "A = 8.189424722447416e-12\n"
          ],
          "name": "stdout"
        }
      ]
    },
    {
      "cell_type": "markdown",
      "metadata": {
        "id": "SkRaEX_ZvxUX",
        "colab_type": "text"
      },
      "source": [
        "Furthermore, a function for the waveform h(f) is made with the 4 observables being tc,φc,Mc,ηc in the following code. It should be mentioned that ηc refers to the dimensionless mass ratio ηc = m1*m2/((m1+m2)^2) and Mc refers to the chirm mass where Mc = (ηc^(3/5))*(m1+m2):"
      ]
    },
    {
      "cell_type": "code",
      "metadata": {
        "id": "cSXH5UDbxU_w",
        "colab_type": "code",
        "colab": {}
      },
      "source": [
        "#Inputs the waveform h(f) as a function of h(tc,φc,Mc,ηc,f) which are the 4 observables.\n",
        "def h(tc,φc,Mc,ηc,f):\n",
        "      A = 8.189424722447416*10**(-12)\n",
        "      υl = 1\n",
        "      υ = ((3.14*(Mc/ηc**(3/5))*f*6.67408*10**(-11))/2.69440024*10**25)**(1/3)\n",
        "      k = log((υ/υl),10)\n",
        "      γ = 0.57721\n",
        "      λ = -0.6451\n",
        "      θ = -1.28\n",
        "      a2 = (4.91402116+6.1111*ηc)\n",
        "      a4 = (30.103153+(53.859127*ηc)+(42.847222*(ηc**2)))\n",
        "      #a5 = 3.14*(51.1177249+(153.353175*k)-7.222*η(1+3*(math.log(k,10))))\n",
        "      #a6 = 2467.55412-(213.333*(3.14**2))-(326.095238*(γ)) + η*(-5031.0472+187.916667*(3.14**2)-586.666*θ +1368.888*λ) + 44.013318*(η**2) - 98.6304*(η**3) - 326.095238*log(4*υ,10)\n",
        "      #a7 = 3.14*(303.511098+250.340608*η-97.9431217*(n**2))    \n",
        "      return A*(f**(-7/6))*2.71828183**(1j*ψ(tc,φc,Mc,ηc,f))\n",
        "\n",
        "#The ψ(f) part of the function is also made into a function and is called in the h(f) function.\n",
        "def ψ(tc,φc,Mc,ηc,f):\n",
        "  υ = ((3.14*(Mc/ηc**(3/5))*f*6.67408*10**(-11))/2.69440024*10**25)**(1/3)\n",
        "  a2 = (4.91402116+6.1111*ηc)\n",
        "  a4 = (30.103153+(53.859127*ηc)+(42.847222*(ηc**2)))\n",
        "  return (2*3.14*f*tc) - φc - (3.14/4) + (3/(128*ηc*(υ**5)))*(1+a2*(υ**2)-16*3.14*(υ**3)+a4*(υ**4))\n",
        "\n",
        "#Transforms these observables into instances of the Symbol class of the Sympy package required for the derivatives later. \n",
        "tc,φc,Mc,ηc,f = symbols('tc φc Mc f ηc')"
      ],
      "execution_count": 0,
      "outputs": []
    },
    {
      "cell_type": "markdown",
      "metadata": {
        "id": "RP2FeFY72NBC",
        "colab_type": "text"
      },
      "source": [
        "The following code makes use of the sympy library to differentiate the waveform in terms of the 4 observables being used. Afterwards the 4 observables are set to tc = 1,φc = 1,Mc = 8.7055056*10^29 and ηc = 0.25 respectivelly. This way an expression in terms of f is produced for each observable."
      ]
    },
    {
      "cell_type": "code",
      "metadata": {
        "id": "KYc7bjsJ3rfH",
        "colab_type": "code",
        "outputId": "8c3bb2de-ca39-47c3-a044-d32867220198",
        "colab": {
          "base_uri": "https://localhost:8080/",
          "height": 121
        }
      },
      "source": [
        "A = 8.189424722447416*10**(-12)   \n",
        "υl = 1     \n",
        "υ = ((3.14*(Mc/ηc**(3/5))*f*6.67408*10**(-11))/2.69440024*10**25)**(1/3)\n",
        "k = log((υ/υl),10)\n",
        "γ = 0.57721\n",
        "λ = -0.6451\n",
        "θ = -1.28\n",
        "a2 = (4.91402116+6.1111*ηc)\n",
        "a4 = (30.103153+(53.859127*ηc)+(42.847222*(ηc**2)))\n",
        "#a5 = 3.14*(51.1177249+(153.353175*k)-7.222*η(1+3*(math.log(k,10))))\n",
        "#a6 = 2467.55412-(213.333*(3.14**2))-(326.095238*(γ)) + η*(-5031.0472+187.916667*(3.14**2)-586.666*θ +1368.888*λ) + 44.013318*(η**2) - 98.6304*(η**3) - 326.095238*log(4*υ,10)\n",
        "#a7 = 3.14*(303.511098+250.340608*η-97.9431217*(n**2))  \n",
        "\n",
        "#The Sympy package is used to differentiate the h function in terms of each observable and then lambdify is used to convert the sympy expression to a lambda function.\n",
        "func_tc = lambdify(tc,(diff(h(tc,1,8.7055056*10**29,0.25,f),tc)))\n",
        "func_φc = lambdify(φc,(diff(h(1,φc,8.7055056*10**29,0.25,f),φc)))\n",
        "func_Mc = lambdify(Mc,(diff(h(1,1,Mc,0.25,f),Mc)))\n",
        "func_ηc = lambdify(ηc,(diff(h(1,1,8.7055056*10**29,ηc,f),ηc)))\n",
        "\n",
        "#Prints the obtained functions for each observable.\n",
        "print(\"The expressions that are obtained for each observable are: \")\n",
        "print(\"func_tc =\",func_tc(1))\n",
        "print(\"func_φc =\",func_φc(1))\n",
        "print(\"func_Mc =\",func_Mc(8.7055056*10**29))\n",
        "print(\"func_ηc =\",func_ηc(0.25))"
      ],
      "execution_count": 5,
      "outputs": [
        {
          "output_type": "stream",
          "text": [
            "The expressions that are obtained for each observable are: \n",
            "func_tc = 5.14295872861245e-11*2.71828183**(1.0*I*(4.48906995863138e-77*ηc**(-1.66666666666667)*(8.64834366807869e+30*ηc**0.666666666666667 - 7.81517257214614e+46*ηc**1.0 + 8.3353727856519e+61*ηc**1.33333333333333 + 1) + 6.28*ηc - 1.785))*I*ηc**(-0.166666666666667)\n",
            "func_φc = -8.18942472708988e-12*2.71828183**(1.0*I*(4.48906995863138e-77*ηc**(-1.66666666666667)*(8.64834366807869e+30*ηc**0.666666666666667 - 7.81517257214614e+46*ηc**1.0 + 8.3353727856519e+61*ηc**1.33333333333333 + 1) + 6.28*ηc - 1.785))*I*ηc**(-1.16666666666667)\n",
            "func_Mc = 8.18942472708988e-12*2.71828183**(1.0*I*(4.4890699586303e-77*ηc**(-1.66666666666667)*(8.64834366807889e+30*ηc**0.666666666666667 - 7.81517257214617e+46*ηc**1.0 + 8.33537278564996e+61*ηc**1.33333333333333 + 1) + 6.28*ηc - 1.785))*I*ηc**(-1.16666666666667)*(4.4890699586303e-77*ηc**(-1.66666666666667)*(6.62289212172343*ηc**0.666666666666667 - 8.97727591163249e+16*ηc**1.0 + 1.27664387245545e+32*ηc**1.33333333333333) - 8.59431216078228e-107*ηc**(-1.66666666666667)*(8.64834366807889e+30*ηc**0.666666666666667 - 7.81517257214617e+46*ηc**1.0 + 8.33537278564996e+61*ηc**1.33333333333333 + 1))\n",
            "func_ηc = 3.67629005208521e-88*2.71828183**(1.0*I*(4.48906995863137e-77*ηc**(-1.66666666666667)*(8.64834366807869e+30*ηc**0.666666666666667 - 7.81517257214614e+46*ηc**1.0 + 8.33537278565187e+61*ηc**1.33333333333333 + 1) + 6.28*ηc - 1.785))*I*ηc**(-2.83333333333334)*(-5.63297772219907e+30*ηc**0.666666666666667 + 1.87564141731507e+47*ηc**1.0 - 1.31042089863386e+62*ηc**1.33333333333333)\n"
          ],
          "name": "stdout"
        }
      ]
    },
    {
      "cell_type": "markdown",
      "metadata": {
        "id": "gK5AvAVA_Hh9",
        "colab_type": "text"
      },
      "source": [
        "The code below is used to carry out the integration required to produce the Fisher-Matrix through the scimpy library."
      ]
    },
    {
      "cell_type": "code",
      "metadata": {
        "id": "QDp05K4d_aaD",
        "colab_type": "code",
        "outputId": "3d69cd48-4de8-40e5-a68f-0c579e941fe6",
        "colab": {
          "base_uri": "https://localhost:8080/",
          "height": 54
        }
      },
      "source": [
        "#The obtained expressions are copied into functions.\n",
        "def tc_func(f):\n",
        "  return 5.14295872861245e-11*2.71828183**(1.0*I*(4.48906995863138e-77*f**(-1.66666666666667)*(8.64834366807869e+30*f**0.666666666666667 - 7.81517257214614e+46*f**1.0 + 8.3353727856519e+61*f**1.33333333333333 + 1) + 6.28*f - 1.785))*I*f**(-0.166666666666667)\n",
        "\n",
        "def φc_func(f):\n",
        "  return -8.18942472708988e-12*2.71828183**(1.0*I*(4.48906995863138e-77*f**(-1.66666666666667)*(8.64834366807869e+30*f**0.666666666666667 - 7.81517257214614e+46*f**1.0 + 8.3353727856519e+61*f**1.33333333333333 + 1) + 6.28*f - 1.785))*I*f**(-1.16666666666667)\n",
        "\n",
        "def Mc_func(f):\n",
        "  return 8.18942472708988e-12*2.71828183**(1.0*I*(4.4890699586303e-77*f**(-1.66666666666667)*(8.64834366807889e+30*f**0.666666666666667 - 7.81517257214617e+46*f**1.0 + 8.33537278564996e+61*f**1.33333333333333 + 1) + 6.28*f - 1.785))*I*f**(-1.16666666666667)*(4.4890699586303e-77*f**(-1.66666666666667)*(6.62289212172343*f**0.666666666666667 - 8.97727591163249e+16*f**1.0 + 1.27664387245545e+32*f**1.33333333333333) - 8.59431216078228e-107*f**(-1.66666666666667)*(8.64834366807889e+30*f**0.666666666666667 - 7.81517257214617e+46*f**1.0 + 8.33537278564996e+61*f**1.33333333333333 + 1))\n",
        "\n",
        "def ηc_func(f):\n",
        "  return 3.67629005208521e-88*2.71828183**(1.0*I*(4.48906995863137e-77*f**(-1.66666666666667)*(8.64834366807869e+30*f**0.666666666666667 - 7.81517257214614e+46*f**1.0 + 8.33537278565187e+61*f**1.33333333333333 + 1) + 6.28*f - 1.785))*I*f**(-2.83333333333334)*(-5.63297772219907e+30*f**0.666666666666667 + 1.87564141731507e+47*f**1.0 - 1.31042089863386e+62*f**1.33333333333333)\n",
        "  \n",
        "#Defines a 2-d array with 4 rows and columns.  \n",
        "matrix = [[0 for x in range(4)] for y in range(4)]\n",
        "\n",
        "#The scimpi library is used to compute the integrals and calculate the Fisher-Matrix.\n",
        "for i in (0,1,2,3):\n",
        "  for j in (0,1,2,3):\n",
        "    if i == 0 and j == 0:\n",
        "      matrix[0][0] = integrate.fixed_quad(lambda f: 4*(tc_func(f))*(tc_func(f).conjugate())/S(f),fs,fu)[0]\n",
        "    elif i == 1 and j == 1:\n",
        "      matrix[1][1] = integrate.fixed_quad(lambda f: 4*(φc_func(f))*(φc_func(f).conjugate())/S(f),fs,fu)[0]\n",
        "    elif i == 2 and j == 2:\n",
        "      matrix[2][2] = integrate.fixed_quad(lambda f: 4*(Mc_func(f))*(Mc_func(f).conjugate())/S(f),fs,fu)[0]\n",
        "    elif i == 3 and j == 3:\n",
        "      matrix[3][3] = integrate.fixed_quad(lambda f: 4*(ηc_func(f))*(ηc_func(f).conjugate())/S(f),fs,fu)[0]\n",
        "    elif i == 1 and j == 0:\n",
        "      matrix[1][0] = integrate.fixed_quad(lambda f: 4*(φc_func(f))*(tc_func(f).conjugate())/S(f),fs,fu)[0]\n",
        "    elif i == 2 and j == 0:\n",
        "      matrix[2][0] = integrate.fixed_quad(lambda f: 4*(Mc_func(f))*(tc_func(f).conjugate())/S(f),fs,fu)[0]\n",
        "    elif i == 3 and j == 0:\n",
        "      matrix[3][0] = integrate.fixed_quad(lambda f: 4*(ηc_func(f))*(tc_func(f).conjugate())/S(f),fs,fu)[0]\n",
        "    elif i == 0 and j == 1:\n",
        "      matrix[0][1] = integrate.fixed_quad(lambda f: 4*(tc_func(f))*(φc_func(f).conjugate())/S(f),fs,fu)[0]\n",
        "    elif i == 2 and j == 1:\n",
        "      matrix[2][1] = integrate.fixed_quad(lambda f: 4*(Mc_func(f))*(φc_func(f).conjugate())/S(f),fs,fu)[0]\n",
        "    elif i == 3 and j == 1:\n",
        "      matrix[3][1] = integrate.fixed_quad(lambda f: 4*(ηc_func(f))*(φc_func(f).conjugate())/S(f),fs,fu)[0]\n",
        "    elif i == 0 and j == 2:\n",
        "      matrix[0][2] = integrate.fixed_quad(lambda f: 4*(tc_func(f))*(Mc_func(f).conjugate())/S(f),fs,fu)[0]\n",
        "    elif i == 1 and j == 2:\n",
        "      matrix[1][2] = integrate.fixed_quad(lambda f: 4*(φc_func(f))*(Mc_func(f).conjugate())/S(f),fs,fu)[0]\n",
        "    elif i == 3 and j == 2:\n",
        "      matrix[3][2] = integrate.fixed_quad(lambda f: 4*(ηc_func(f))*(Mc_func(f).conjugate())/S(f),fs,fu)[0]\n",
        "    elif i == 0 and j == 3:\n",
        "      matrix[0][3] = integrate.fixed_quad(lambda f: 4*(tc_func(f))*(ηc_func(f).conjugate())/S(f),fs,fu)[0]\n",
        "    elif i == 1 and j == 3:\n",
        "      matrix[1][3] = integrate.fixed_quad(lambda f: 4*(φc_func(f))*(ηc_func(f).conjugate())/S(f),fs,fu)[0] \n",
        "    elif i == 2 and j == 3:\n",
        "      matrix[2][3] = integrate.fixed_quad(lambda f: 4*(Mc_func(f))*(ηc_func(f).conjugate())/S(f),fs,fu)[0]\n",
        "\n",
        "print(\"Fisher-Matrix = \",matrix) \n"
      ],
      "execution_count": 6,
      "outputs": [
        {
          "output_type": "stream",
          "text": [
            "Fisher-Matrix =  [[52607.4482376717, -25.2011457054598, -5.94274391592041e-45, -2.43999003658711e-14], [-25.2011457054598, 0.0184547387882405, 4.43271976950671e-48, 1.81999968795626e-17], [-5.94274391592041e-45, 4.43271976950671e-48, 1.06438084354735e-93, 4.37016753562650e-63], [-2.43999003658711e-14, 1.81999968795626e-17, 4.37016753562650e-63, 1.79431679978315e-32]]\n"
          ],
          "name": "stdout"
        }
      ]
    },
    {
      "cell_type": "markdown",
      "metadata": {
        "id": "w21epjfNLrpO",
        "colab_type": "text"
      },
      "source": [
        "Afterwards, the numpy.linalg library is used to invert the fisher matrix."
      ]
    },
    {
      "cell_type": "code",
      "metadata": {
        "id": "agYklhLCSk8D",
        "colab_type": "code",
        "outputId": "1019a5c9-adce-4f50-d4f0-cab9ec8aca7b",
        "colab": {
          "base_uri": "https://localhost:8080/",
          "height": 151
        }
      },
      "source": [
        "#The Fisher-Matrix is copied and inverted through the numpy.linalg library.\n",
        "invmat = np.linalg.inv([[52607.4482376717, -25.2011457054598, -5.94274391592041e-45, -2.43999003658711e-14], [-25.2011457054598, 0.0184547387882405, 4.43271976950671e-48, 1.81999968795626e-17], [-5.94274391592041e-45, 4.43271976950671e-48, 1.06438084354735e-93, 4.37016753562650e-63], [-2.43999003658711e-14, 1.81999968795626e-17, 4.37016753562650e-63, 1.79431679978315e-32]])\n",
        "\n",
        "invmat"
      ],
      "execution_count": 7,
      "outputs": [
        {
          "output_type": "execute_result",
          "data": {
            "text/plain": [
              "array([[ 1.82223736e-005, -1.42917945e+000,  4.32602249e+045,\n",
              "         4.20434575e+014],\n",
              "       [-1.42917945e+000, -6.14277686e+004,  1.83525654e+050,\n",
              "         1.56645195e+019],\n",
              "       [ 4.32016765e+045,  1.83675525e+050, -2.17336098e+107,\n",
              "         5.29335265e+076],\n",
              "       [ 4.22212465e+014,  1.56282628e+019,  5.29335265e+076,\n",
              "        -1.28922818e+046]])"
            ]
          },
          "metadata": {
            "tags": []
          },
          "execution_count": 7
        }
      ]
    },
    {
      "cell_type": "markdown",
      "metadata": {
        "id": "E-vlZGseTERS",
        "colab_type": "text"
      },
      "source": [
        "Finally,the square root of the diagonal elements of the inverse Fisher Matrix each represent the standard deviation of each observable tc,φc,Mc and ηc respectivelly."
      ]
    },
    {
      "cell_type": "code",
      "metadata": {
        "id": "XuMze4S3UEEA",
        "colab_type": "code",
        "outputId": "a221421c-c31d-4aa8-ff77-d24627816e2b",
        "colab": {
          "base_uri": "https://localhost:8080/",
          "height": 101
        }
      },
      "source": [
        "#Takes the absolute values of the diagonals of the inverted matrix and calculates their square root.\n",
        "Δtc = sqrt(abs(invmat[0][0]))\n",
        " \n",
        "Δφc = sqrt(abs(invmat[1][1]))\n",
        "\n",
        "ΔMc = sqrt(abs(invmat[2][2]))\n",
        "\n",
        "Δηc = sqrt(abs(invmat[3][3]))\n",
        "\n",
        "#Prints the results.\n",
        "print(\"Standard Deviation: \")\n",
        "print(\"Δtc =\",Δtc)\n",
        "print(\"Δφc =\",Δφc)\n",
        "print(\"ΔMc =\",ΔMc)\n",
        "print(\"Δηc =\",Δηc)"
      ],
      "execution_count": 8,
      "outputs": [
        {
          "output_type": "stream",
          "text": [
            "Standard Deviation: \n",
            "Δtc = 0.00426876722678871\n",
            "Δφc = 247.846259968725\n",
            "ΔMc = 4.66193197918709e+53\n",
            "Δηc = 1.13544184567530e+23\n"
          ],
          "name": "stdout"
        }
      ]
    },
    {
      "cell_type": "markdown",
      "metadata": {
        "id": "7tlkY4eZzXtp",
        "colab_type": "text"
      },
      "source": [
        "#Exercise 2: Generalising."
      ]
    },
    {
      "cell_type": "markdown",
      "metadata": {
        "id": "YO7ZLGoxoxRR",
        "colab_type": "text"
      },
      "source": [
        "The same exact process is repeated again. However, this time a general code is made that allows someone to input any waveform with 4 observables and it also allows for the choice of which observables of the waveform should be taken into account when the code calculates the Fisher-Matrix. This code is made and tested in the following code for the same waveform with the same parameters as before. It is assumed that the ηc parameter is not taken into account and the following code is used to see if the standard deviations of the other observables change."
      ]
    },
    {
      "cell_type": "code",
      "metadata": {
        "id": "RHcGNsutplLA",
        "colab_type": "code",
        "colab": {}
      },
      "source": [
        "#The waveform h is inputed here.\n",
        "def h(tc,φc,Mc,ηc,f):\n",
        "      A = 8.189424722447416*10**(-12)\n",
        "      υl = 1\n",
        "      υ = ((3.14*(Mc/ηc**(3/5))*f*6.67408*10**(-11))/2.69440024*10**25)**(1/3)\n",
        "      k = log((υ/υl),10)\n",
        "      γ = 0.57721\n",
        "      λ = -0.6451\n",
        "      θ = -1.28\n",
        "      a2 = (4.91402116+6.1111*ηc)\n",
        "      a4 = (30.103153+(53.859127*ηc)+(42.847222*(ηc**2)))\n",
        "      #a5 = 3.14*(51.1177249+(153.353175*k)-7.222*η(1+3*(math.log(k,10))))\n",
        "      #a6 = 2467.55412-(213.333*(3.14**2))-(326.095238*(γ)) + η*(-5031.0472+187.916667*(3.14**2)-586.666*θ +1368.888*λ) + 44.013318*(η**2) - 98.6304*(η**3) - 326.095238*log(4*υ,10)\n",
        "      #a7 = 3.14*(303.511098+250.340608*η-97.9431217*(n**2))    \n",
        "      return A*(f**(-7/6))*2.71828183**(1j*ψ(tc,φc,Mc,ηc,f))\n",
        "\n",
        "def ψ(tc,φc,Mc,ηc,f):\n",
        "  υ = ((3.14*(Mc/ηc**(3/5))*f*6.67408*10**(-11))/2.69440024*10**25)**(1/3)\n",
        "  a2 = (4.91402116+6.1111*ηc)\n",
        "  a4 = (30.103153+(53.859127*ηc)+(42.847222*(ηc**2)))\n",
        "  return (2*3.14*f*tc) - φc - (3.14/4) + (3/(128*ηc*(υ**5)))*(1+a2*(υ**2)-16*3.14*(υ**3)+a4*(υ**4))\n",
        "\n",
        "#Transforms these observables into instances of the Symbol class of the Sympy package required for the derivatives later. \n",
        "tc,φc,Mc,ηc,f = symbols('tc φc Mc ηc f')\n",
        "\n",
        "A = 8.189424722447416*10**(-12)   \n",
        "υl = 1     \n",
        "υ = ((3.14*(Mc/ηc**(3/5))*f*6.67408*10**(-11))/2.69440024*10**25)**(1/3)\n",
        "k = log((υ/υl),10)\n",
        "γ = 0.57721\n",
        "λ = -0.6451\n",
        "θ = -1.28\n",
        "a2 = (4.91402116+6.1111*ηc)\n",
        "a4 = (30.103153+(53.859127*ηc)+(42.847222*(ηc**2)))\n",
        "#a5 = 3.14*(51.1177249+(153.353175*k)-7.222*η(1+3*(math.log(k,10))))\n",
        "#a6 = 2467.55412-(213.333*(3.14**2))-(326.095238*(γ)) + η*(-5031.0472+187.916667*(3.14**2)-586.666*θ +1368.888*λ) + 44.013318*(η**2) - 98.6304*(η**3) - 326.095238*log(4*υ,10)\n",
        "#a7 = 3.14*(303.511098+250.340608*η-97.9431217*(n**2)) \n",
        "\n",
        "#The 4 observables of the waveform are inputed here.\n",
        "obs1 = tc\n",
        "obs2 = φc\n",
        "obs3 = Mc\n",
        "obs4 = ηc\n",
        "\n",
        "#The values that the 4 observables take after the differentiation are inputed here.\n",
        "obs1_af = 1\n",
        "obs2_af = 1\n",
        "obs3_af = 8.7055056*10**29\n",
        "obs4_af = 0.25\n",
        "\n",
        "#Here, the choice of which observables should be taken into account during the calculation of the Fisher-Matrix can be inputed.\n",
        "#In this case ηc is not taken into account so l is set to false.\n",
        "i = true  #if i is set to true then obs1 is taken into account and if i is set to false then obs1 is not taken into account.\n",
        "j = true  #if j is set to true then obs2 is taken into account and if j is set to false then obs2 is not taken into account.\n",
        "k = true  #if k is set to true then obs3 is taken into account and if k is set to false then obs3 is not taken into account.\n",
        "l = false #if l is set to true then obs4 is taken into account and if l is set to false then obs4 is not taken into account."
      ],
      "execution_count": 0,
      "outputs": []
    },
    {
      "cell_type": "code",
      "metadata": {
        "id": "v7BmzxdsqWK2",
        "colab_type": "code",
        "colab": {
          "base_uri": "https://localhost:8080/",
          "height": 121
        },
        "outputId": "fec4b34b-a323-4992-8761-3a7ac2406d94"
      },
      "source": [
        "#Function that calculates the derivatives of the wavefunction with each observable that is taken into account.\n",
        "def derivatives():\n",
        "\n",
        " global i\n",
        " global j\n",
        " global k\n",
        " global l\n",
        " #For each observable(which is taken into account) the derivative of the wavefunction with respect to it is taken. Then each observable take the value that is supposed to be assigned to it after the differentiation.\n",
        " #If the observable is not taken into account then the derivative with respect to that observable is set equal to 0.\n",
        " if i == true:\n",
        "   func1 = lambdify(obs1,(diff(h(obs1,obs2_af,obs3_af,obs4_af,f),obs1)))\n",
        " else:\n",
        "   func1 = lambdify(obs1,0)  \n",
        " if j == true:\n",
        "   func2 = lambdify(obs2,(diff(h(obs1_af,obs2,obs3_af,obs4_af,f),obs2))) \n",
        " else:\n",
        "   func2 = lambdify(obs2,0)  \n",
        " if k == true: \n",
        "   func3 = lambdify(obs3,(diff(h(obs1_af,obs2_af,obs3,obs4_af,f),obs3)))\n",
        " else:\n",
        "   func3 = lambdify(obs3,0)\n",
        " if l == true:\n",
        "   func4 = lambdify(obs4,(diff(h(obs1_af,obs2_af,obs3_af,obs4,f),obs4)))\n",
        " else:\n",
        "   func4 = lambdify(obs4,0) \n",
        " \n",
        " #Prints the result.\n",
        " print(\"The expressions that are obtained for each parameter are: \")\n",
        " print(\"func1 =\",func1(obs1_af))\n",
        " print(\"func2 =\",func2(obs2_af))\n",
        " print(\"func3 =\",func3(obs3_af))\n",
        " print(\"func4 =\",func4(obs4_af))\n",
        " return None\n",
        "\n",
        "#Function is called.\n",
        "derivatives() \n"
      ],
      "execution_count": 10,
      "outputs": [
        {
          "output_type": "stream",
          "text": [
            "The expressions that are obtained for each parameter are: \n",
            "func1 = 5.14295872861245e-11*2.71828183**(1.0*I*(4.48906995863138e-77*f**(-1.66666666666667)*(8.64834366807869e+30*f**0.666666666666667 - 7.81517257214614e+46*f**1.0 + 8.3353727856519e+61*f**1.33333333333333 + 1) + 6.28*f - 1.785))*I*f**(-0.166666666666667)\n",
            "func2 = -8.18942472708988e-12*2.71828183**(1.0*I*(4.48906995863138e-77*f**(-1.66666666666667)*(8.64834366807869e+30*f**0.666666666666667 - 7.81517257214614e+46*f**1.0 + 8.3353727856519e+61*f**1.33333333333333 + 1) + 6.28*f - 1.785))*I*f**(-1.16666666666667)\n",
            "func3 = 8.18942472708988e-12*2.71828183**(1.0*I*(4.4890699586303e-77*f**(-1.66666666666667)*(8.64834366807889e+30*f**0.666666666666667 - 7.81517257214617e+46*f**1.0 + 8.33537278564996e+61*f**1.33333333333333 + 1) + 6.28*f - 1.785))*I*f**(-1.16666666666667)*(4.4890699586303e-77*f**(-1.66666666666667)*(6.62289212172343*f**0.666666666666667 - 8.97727591163249e+16*f**1.0 + 1.27664387245545e+32*f**1.33333333333333) - 8.59431216078228e-107*f**(-1.66666666666667)*(8.64834366807889e+30*f**0.666666666666667 - 7.81517257214617e+46*f**1.0 + 8.33537278564996e+61*f**1.33333333333333 + 1))\n",
            "func4 = 0\n"
          ],
          "name": "stdout"
        }
      ]
    },
    {
      "cell_type": "code",
      "metadata": {
        "id": "cZgwvHE9PfpP",
        "colab_type": "code",
        "outputId": "b45fd5b0-a745-4b14-d7dc-724a7086a733",
        "colab": {
          "base_uri": "https://localhost:8080/",
          "height": 54
        }
      },
      "source": [
        "#The obtained expressions are copied into functions.\n",
        "def func_a(f):\n",
        "  return 5.14295872861245e-11*2.71828183**(1.0*I*(4.48906995863138e-77*f**(-1.66666666666667)*(8.64834366807869e+30*f**0.666666666666667 - 7.81517257214614e+46*f**1.0 + 8.3353727856519e+61*f**1.33333333333333 + 1) + 6.28*f - 1.785))*I*f**(-0.166666666666667)\n",
        "\n",
        "def func_b(f):\n",
        "  return -8.18942472708988e-12*2.71828183**(1.0*I*(4.48906995863138e-77*f**(-1.66666666666667)*(8.64834366807869e+30*f**0.666666666666667 - 7.81517257214614e+46*f**1.0 + 8.3353727856519e+61*f**1.33333333333333 + 1) + 6.28*f - 1.785))*I*f**(-1.16666666666667)\n",
        "\n",
        "def func_c(f):\n",
        "  return 8.18942472708988e-12*2.71828183**(1.0*I*(4.4890699586303e-77*f**(-1.66666666666667)*(8.64834366807889e+30*f**0.666666666666667 - 7.81517257214617e+46*f**1.0 + 8.33537278564996e+61*f**1.33333333333333 + 1) + 6.28*f - 1.785))*I*f**(-1.16666666666667)*(4.4890699586303e-77*f**(-1.66666666666667)*(6.62289212172343*f**0.666666666666667 - 8.97727591163249e+16*f**1.0 + 1.27664387245545e+32*f**1.33333333333333) - 8.59431216078228e-107*f**(-1.66666666666667)*(8.64834366807889e+30*f**0.666666666666667 - 7.81517257214617e+46*f**1.0 + 8.33537278564996e+61*f**1.33333333333333 + 1))\n",
        "\n",
        "def func_d(f):\n",
        "  return 0\n",
        "\n",
        "#Function that calculates the Fisher-Matrix.\n",
        "def integral():\n",
        "  \n",
        "  matrix = [[0 for x in range(4)] for y in range(4)] \n",
        "  \n",
        "  #Carries out the integrals and calculates the Fisher-Matrix.\n",
        "  for p in (0,1,2,3):\n",
        "   for q in (0,1,2,3):\n",
        "    if p == 0 and q == 0:\n",
        "      matrix[0][0] = integrate.fixed_quad(lambda f: 4*(func_a(f))*(func_a(f).conjugate())/S(f),fs,fu)[0]\n",
        "    elif p == 1 and q == 1:\n",
        "      matrix[1][1] = integrate.fixed_quad(lambda f: 4*(func_b(f))*(func_b(f).conjugate())/S(f),fs,fu)[0]\n",
        "    elif p == 2 and q == 2:\n",
        "      matrix[2][2] = integrate.fixed_quad(lambda f: 4*(func_c(f))*(func_c(f).conjugate())/S(f),fs,fu)[0]\n",
        "    elif p == 3 and q == 3:\n",
        "      matrix[3][3] = integrate.fixed_quad(lambda f: 4*(func_d(f))*(func_d(f).conjugate())/S(f),fs,fu)[0]\n",
        "    elif p == 1 and q == 0:\n",
        "      matrix[1][0] = integrate.fixed_quad(lambda f: 4*(func_b(f))*(func_a(f).conjugate())/S(f),fs,fu)[0]\n",
        "    elif p == 2 and q == 0:\n",
        "      matrix[2][0] = integrate.fixed_quad(lambda f: 4*(func_c(f))*(func_a(f).conjugate())/S(f),fs,fu)[0]\n",
        "    elif p == 3 and q == 0:\n",
        "      matrix[3][0] = integrate.fixed_quad(lambda f: 4*(func_d(f))*(func_a(f).conjugate())/S(f),fs,fu)[0]\n",
        "    elif p == 0 and q == 1:\n",
        "      matrix[0][1] = integrate.fixed_quad(lambda f: 4*(func_a(f))*(func_b(f).conjugate())/S(f),fs,fu)[0]\n",
        "    elif p == 2 and q == 1:\n",
        "      matrix[2][1] = integrate.fixed_quad(lambda f: 4*(func_c(f))*(func_b(f).conjugate())/S(f),fs,fu)[0]\n",
        "    elif p == 3 and q == 1:\n",
        "      matrix[3][1] = integrate.fixed_quad(lambda f: 4*(func_d(f))*(func_b(f).conjugate())/S(f),fs,fu)[0]\n",
        "    elif p == 0 and q == 2:\n",
        "      matrix[0][2] = integrate.fixed_quad(lambda f: 4*(func_a(f))*(func_c(f).conjugate())/S(f),fs,fu)[0]\n",
        "    elif p == 1 and q == 2:\n",
        "      matrix[1][2] = integrate.fixed_quad(lambda f: 4*(func_b(f))*(func_c(f).conjugate())/S(f),fs,fu)[0]\n",
        "    elif p == 3 and q == 2:\n",
        "      matrix[3][2] = integrate.fixed_quad(lambda f: 4*(func_d(f))*(func_c(f).conjugate())/S(f),fs,fu)[0]\n",
        "    elif p == 0 and q == 3:\n",
        "      matrix[0][3] = integrate.fixed_quad(lambda f: 4*(func_a(f))*(func_d(f).conjugate())/S(f),fs,fu)[0]\n",
        "    elif p == 1 and q == 3:\n",
        "      matrix[1][3] = integrate.fixed_quad(lambda f: 4*(func_b(f))*(func_d(f).conjugate())/S(f),fs,fu)[0] \n",
        "    elif p == 2 and q == 3:\n",
        "      matrix[2][3] = integrate.fixed_quad(lambda f: 4*(func_c(f))*(func_d(f).conjugate())/S(f),fs,fu)[0]\n",
        "\n",
        "  #In case there is an observable that is not taken into account, then the Fisher-Matrix will contain some 0s. In that case, the Fisher-Matrix has to be resized.\n",
        "  #Here the amount of rows for the resized Fisher-Matrix are calculated.\n",
        "  global i\n",
        "  global j\n",
        "  global k\n",
        "  global l\n",
        "  rows = 0\n",
        "  if i == true:\n",
        "    rows += 1\n",
        "  if j == true:\n",
        "    rows += 1\n",
        "  if k == true:\n",
        "    rows += 1\n",
        "  if l == true:\n",
        "    rows += 1\n",
        "\n",
        "  x = 0\n",
        "  y = 0\n",
        "  \n",
        "  #The Fisher-Matrix is resized.\n",
        "  fisher = [[0 for x in range(rows)] for y in range(rows)] \n",
        "  for p in (0,1,2,3):\n",
        "   for q in (0,1,2,3):\n",
        "     if matrix[p][q] != 0:     \n",
        "       fisher[x][y] = matrix[p][q] \n",
        "       if x < rows - 1:\n",
        "         x += 1\n",
        "       else:\n",
        "         x = 0\n",
        "         y +=1\n",
        "  \n",
        "  print(\"Fisher matrix = \",fisher)\n",
        "  return None\n",
        "\n",
        "#The function is called.\n",
        "integral()  "
      ],
      "execution_count": 11,
      "outputs": [
        {
          "output_type": "stream",
          "text": [
            "Fisher matrix =  [[52607.4482376717, -25.2011457054598, -5.94274391592041e-45], [-25.2011457054598, 0.0184547387882405, 4.43271976950671e-48], [-5.94274391592041e-45, 4.43271976950671e-48, 1.06438084354735e-93]]\n"
          ],
          "name": "stdout"
        }
      ]
    },
    {
      "cell_type": "code",
      "metadata": {
        "id": "0bFUfrjIrqd0",
        "colab_type": "code",
        "outputId": "ad11177f-3108-4f5e-8a87-6f2eee4bae50",
        "colab": {
          "base_uri": "https://localhost:8080/",
          "height": 84
        }
      },
      "source": [
        "#Fisher Matrix is copied here.\n",
        "matrix = [[52607.4482376717, -25.2011457054598, -5.94274391592041e-45], [-25.2011457054598, 0.0184547387882405, 4.43271976950671e-48], [-5.94274391592041e-45, 4.43271976950671e-48, 1.06438084354735e-93]]\n",
        "\n",
        "#Function that computes the Standard Deviation of a Fisher-Matrix.\n",
        "def stdev(fisher_matrix):\n",
        " \n",
        " #Calculates amount of rows the Fisher Matrix has.\n",
        " global i\n",
        " global j\n",
        " global k\n",
        " global l\n",
        " rows = 0\n",
        " if i == true:\n",
        "  rows += 1\n",
        " if j == true:\n",
        "  rows += 1\n",
        " if k == true:\n",
        "  rows += 1\n",
        " if l == true:\n",
        "  rows += 1\n",
        "\n",
        " #Invert the Fisher Matrix.\n",
        " invmat = np.linalg.inv(fisher_matrix)\n",
        " print(\"Standard Deviation: \")\n",
        " \n",
        " #Depending on which observables are taken into account, the standard deviations are calculated and printed.\n",
        " if rows == 4:\n",
        "  ObsA = sqrt(abs(invmat[0][0]))\n",
        "  ObsB = sqrt(abs(invmat[1][1]))\n",
        "  ObsC = sqrt(abs(invmat[2][2]))\n",
        "  ObsD = sqrt(abs(invmat[3][3]))\n",
        "  print(\"Obs1 =\",ObsA)\n",
        "  print(\"Obs2 =\",ObsB)\n",
        "  print(\"Obs3 =\",ObsC)\n",
        "  print(\"Obs4 =\",ObsD)\n",
        " elif rows == 3:\n",
        "  ObsA = sqrt(abs(invmat[0][0]))\n",
        "  ObsB = sqrt(abs(invmat[1][1]))\n",
        "  ObsC = sqrt(abs(invmat[2][2]))\n",
        "  if i == false and j == true and k == true and l == true: \n",
        "     print(\"Obs2 =\",ObsA)\n",
        "     print(\"Obs3 =\",ObsB)\n",
        "     print(\"Obs4 =\",ObsC)\n",
        "  elif i == true and j == false and k == true and l == true:\n",
        "     print(\"Obs1 =\",ObsA)\n",
        "     print(\"Obs3 =\",ObsB)\n",
        "     print(\"Obs4 =\",ObsC)\n",
        "  elif i == true and j == true and k == false and l == true:\n",
        "     print(\"Obs1 =\",ObsA)\n",
        "     print(\"Obs2 =\",ObsB)\n",
        "     print(\"Obs4 =\",ObsC)\n",
        "  elif i == true and j == true and k == true and l == false:\n",
        "     print(\"Obs1 =\",ObsA)\n",
        "     print(\"Obs2 =\",ObsB)\n",
        "     print(\"Obs3 =\",ObsC)  \n",
        " elif rows == 2:\n",
        "  ObsA = sqrt(abs(invmat[0][0]))\n",
        "  ObsB = sqrt(abs(invmat[1][1]))\n",
        "  if i == false and j == false and k == true and l == true: \n",
        "     print(\"Obs3 =\",ObsA)\n",
        "     print(\"Obs4 =\",ObsB)\n",
        "  elif i == true and j == false and k == false and l == true: \n",
        "     print(\"Obs1 =\",ObsA)\n",
        "     print(\"Obs4 =\",ObsB)  \n",
        "  elif i == true and j == true and k == false and l == false: \n",
        "     print(\"Obs1 =\",ObsA)\n",
        "     print(\"Obs2 =\",ObsB)  \n",
        "  elif i == false and j == true and k == true and l == false: \n",
        "     print(\"Obs2 =\",ObsA)\n",
        "     print(\"Obs3 =\",ObsB)   \n",
        "  elif i == false and j == true and k == false and l == true: \n",
        "     print(\"Obs2 =\",ObsA)\n",
        "     print(\"Obs4 =\",ObsB)     \n",
        "  elif i == true and j == false and k == true and l == false: \n",
        "     print(\"Obs1 =\",ObsA)\n",
        "     print(\"Obs3 =\",ObsB)     \n",
        " elif rows == 1:\n",
        "  ObsA = sqrt(abs(invmat[0][0]))\n",
        "  if i == true and j == false and k == false and l == false:\n",
        "     print(\"Obs1 =\",ObsA)\n",
        "  elif i == false and j == true and k == false and l == false:\n",
        "     print(\"Obs2 =\",ObsA)\n",
        "  elif i == false and j == false and k == true and l == false:\n",
        "     print(\"Obs3 =\",ObsA)    \n",
        "  elif i == false and j == false and k == false and l == true:\n",
        "     print(\"Obs4 =\",ObsA)   \n",
        "\n",
        " return None\n",
        "\n",
        "#The function is called\n",
        "stdev(matrix)"
      ],
      "execution_count": 12,
      "outputs": [
        {
          "output_type": "stream",
          "text": [
            "Standard Deviation: \n",
            "Obs1 = 0.00426876722679032\n",
            "Obs2 = 247.846259968687\n",
            "Obs3 = 9.98712050615966e+47\n"
          ],
          "name": "stdout"
        }
      ]
    },
    {
      "cell_type": "markdown",
      "metadata": {
        "id": "selVzP29hANm",
        "colab_type": "text"
      },
      "source": [
        "It can be observed that when the observable ηc is not taken into account, the standard deviation of the observable tc seems to increase by 1.6098234e-15, the standard deviation of the observable φc seems to decrease by 3.7999826e-11 and the standard deviation of the observable Mc seems to decrease by 4.661922e+53."
      ]
    },
    {
      "cell_type": "markdown",
      "metadata": {
        "id": "CwBrXOpTQ4h-",
        "colab_type": "text"
      },
      "source": [
        "#Exercise 3:Testing of generalised code."
      ]
    },
    {
      "cell_type": "markdown",
      "metadata": {
        "id": "pLiG_Js2bbj3",
        "colab_type": "text"
      },
      "source": [
        "The generalised code is tested twice for the waveform h(f) retrieved from the Bachelor thesis of Lizzy Reith for the 2 different Power Spectral Densities that were being used. First, the standard deviations are calculated with the Advanced LIGO Power Spectral Density:"
      ]
    },
    {
      "cell_type": "code",
      "metadata": {
        "id": "13iqG-QJqMDN",
        "colab_type": "code",
        "colab": {}
      },
      "source": [
        "#Input of the Advanced LIGO Power Spectral Density.\n",
        "def S(f):\n",
        "  fs = 9\n",
        "  fu = 4374.05439771\n",
        "  return -(8*(10**(-40))*f**5) + ((2*10**(-35))*f**4) - ((10**(-31))*f**3) + ((3*10**(-28))*f**2) - ((4*10**(-25))*f) + 10**(-22)   "
      ],
      "execution_count": 0,
      "outputs": []
    },
    {
      "cell_type": "markdown",
      "metadata": {
        "id": "Pd1Pp1dP_KsO",
        "colab_type": "text"
      },
      "source": [
        "The waveform h(f) has the form of:\n",
        "\n",
        "![alt text](https://drive.google.com/uc?id=1XItfBA_RRMXmBA5IIxjJEf5B-yxseAiS)\n",
        "\n",
        "where:\n",
        "\n",
        "![alt text](https://drive.google.com/uc?id=1DLuK6feXw8ufCTI0dKkGEM85ct3jCvOe)\n",
        "\n",
        "and:\n",
        "\n",
        "![alt text](https://drive.google.com/uc?id=19eLWOOp2BYIt1b1cAem0LM926QiLCeob)\n",
        "\n",
        "with:\n",
        "\n",
        "![alt text](https://drive.google.com/uc?id=1YcwTkJNBQIXivQVi34MS5aHIzzt2eQhF)\n",
        "\n",
        "Furthermore, χs = χ = 0.05 and χa = 0. This code below is used to make a function of the waveform h(f) with the 4 observables being tc,φc,Mc,ηc."
      ]
    },
    {
      "cell_type": "code",
      "metadata": {
        "id": "lfnGuRynEhu3",
        "colab_type": "code",
        "colab": {}
      },
      "source": [
        "#The waveform h is inputed here.\n",
        "def h(tc,φc,Mc,ηc,f):\n",
        "  A = 8.189424722447416*10**(-12)\n",
        "  return A*(f**(-7/6))*2.71828183**(1j*φ(tc,φc,Mc,ηc,f))\n",
        "\n",
        "def φ(tc,φc,Mc,ηc,f):\n",
        "  x = (3.14*f*Mc*(6.67408*10**(-11)))/((2.69440024*10**25))**(2/3)\n",
        "  υ = sqrt(x)\n",
        "  σ = 0.03734374999 - 0.0253125*ηc\n",
        "  β = (9.41666666667-1.444*ηc)*0.05\n",
        "  a2 = 4.91402116402 + 6.11111111111*ηc\n",
        "  a3 = 4*β - 16*3.14\n",
        "  a4 = 10*(3.0103152951+5.38591269841*ηc+4.28472222222*(ηc**2)-σ)\n",
        "  #a5 = (160.509656085 - 22.6777777778*ηc - 0.57721)*(1+3*log(υ)) \n",
        "  return (2*3.14*f*tc) + φc -0.785 + (3/(128*ηc*((x)**(5/2)))*(1+a2*(υ**2)+a3*(υ**3)+a4*(υ**4))) \n",
        "\n",
        "#Transforms these observables into instances of the Symbol class of the Sympy package required for the derivatives later. \n",
        "tc,φc,Mc,ηc,f = symbols('tc φc Mc ηc f')\n",
        "\n",
        "#The 4 observables of the waveform are inputed here.\n",
        "obs1 = tc\n",
        "obs2 = φc\n",
        "obs3 = Mc\n",
        "obs4 = ηc\n",
        "\n",
        "#The values that the 4 observables take after the differentiation are inputed here.\n",
        "obs1_af = 1\n",
        "obs2_af = 1\n",
        "obs3_af = 8.7055056*10**29\n",
        "obs4_af = 0.25\n",
        "\n",
        "#Here, the choice of which observables should be taken into account during the calculation of the Fisher-Matrix can be inputed.\n",
        "#In this case ηc is not taken into account so l is set to false.\n",
        "i = true  #if i is set to true then obs1 is taken into account and if i is set to false then obs1 is not taken into account.\n",
        "j = true  #if j is set to true then obs2 is taken into account and if j is set to false then obs2 is not taken into account.\n",
        "k = true  #if k is set to true then obs3 is taken into account and if k is set to false then obs3 is not taken into account.\n",
        "l = true #if l is set to true then obs4 is taken into account and if l is set to false then obs4 is not taken into account."
      ],
      "execution_count": 0,
      "outputs": []
    },
    {
      "cell_type": "markdown",
      "metadata": {
        "id": "60GiVRkcLWNV",
        "colab_type": "text"
      },
      "source": [
        "The following code makes use of derivatives() function to calculate the derivatives of the new waveform h in terms of the 4 inputed observables tc, φc, Mc, ηc."
      ]
    },
    {
      "cell_type": "code",
      "metadata": {
        "id": "ZwpNa9ZIR_7N",
        "colab_type": "code",
        "colab": {
          "base_uri": "https://localhost:8080/",
          "height": 121
        },
        "outputId": "cee1d17c-e695-4ce9-99a2-f264e730df93"
      },
      "source": [
        "#Function derivatives() is called.\n",
        "derivatives() "
      ],
      "execution_count": 15,
      "outputs": [
        {
          "output_type": "stream",
          "text": [
            "The expressions that are obtained for each parameter are: \n",
            "func1 = 5.14295872861245e-11*2.71828183**(1.0*I*(5.04995085980541e-10*f**(-2.5)*(189277033.34215*f**2 + 13076.1777481532*f - 4429092.80510167*f**1.5 + 1) + 6.28*f + 0.215))*I*f**(-0.166666666666667)\n",
            "func2 = 8.18942472708988e-12*2.71828183**(1.0*I*(5.04995085980541e-10*f**(-2.5)*(189277033.34215*f**2 + 13076.1777481532*f - 4429092.80510167*f**1.5 + 1) + 6.28*f + 0.215))*I*f**(-1.16666666666667)\n",
            "func3 = 8.18942472708988e-12*2.71828183**(1.0*I*(5.04995085980541e-10*f**(-2.5)*(189277033.34215*f**2 + 13076.1777481533*f - 4429092.80510167*f**1.5 + 1) + 6.28*f + 0.215))*I*f**(-1.16666666666667)*(5.04995085980541e-10*f**(-2.5)*(4.34844435324125e-22*f**2 + 1.50205839258242e-26*f - 7.63153745791915e-24*f**1.5) - 1.45021756685947e-39*f**(-2.5)*(189277033.34215*f**2 + 13076.1777481533*f - 4429092.80510167*f**1.5 + 1))\n",
            "func4 = 8.18942472708988e-12*2.71828183**(1.0*I*(5.0499508598054e-10*f**(-2.5)*(189277033.34215*f**2 + 13076.1777481532*f - 4429092.80510167*f**1.5 + 1) + 6.28*f + 0.215))*I*f**(-1.16666666666667)*(5.0499508598054e-10*f**(-2.5)*(311243646.909243*f**2 + 12404.9160567701*f - 26412.3876967328*f**1.5) - 2.01998034392216e-9*f**(-2.5)*(189277033.34215*f**2 + 13076.1777481532*f - 4429092.80510167*f**1.5 + 1))\n"
          ],
          "name": "stdout"
        }
      ]
    },
    {
      "cell_type": "markdown",
      "metadata": {
        "id": "_lB1AKRQM9yG",
        "colab_type": "text"
      },
      "source": [
        "The code below calls the integral() method to carry out the integration required to produce the Fisher-Matrix."
      ]
    },
    {
      "cell_type": "code",
      "metadata": {
        "id": "519GOe4ZU3OC",
        "colab_type": "code",
        "colab": {
          "base_uri": "https://localhost:8080/",
          "height": 54
        },
        "outputId": "8c79f56f-708c-4d55-88c2-2ad43652496b"
      },
      "source": [
        "#The obtained expressions are copied into functions.\n",
        "def func_a(f):\n",
        "  return 5.14295872861245e-11*2.71828183**(1.0*I*(5.04995085980541e-10*f**(-2.5)*(189277033.34215*f**2 + 13076.1777481532*f - 4429092.80510167*f**1.5 + 1) + 6.28*f + 0.215))*I*f**(-0.166666666666667)\n",
        "\n",
        "def func_b(f):\n",
        "  return 8.18942472708988e-12*2.71828183**(1.0*I*(5.04995085980541e-10*f**(-2.5)*(189277033.34215*f**2 + 13076.1777481532*f - 4429092.80510167*f**1.5 + 1) + 6.28*f + 0.215))*I*f**(-1.16666666666667)\n",
        "\n",
        "def func_c(f):\n",
        "  return 8.18942472708988e-12*2.71828183**(1.0*I*(5.04995085980541e-10*f**(-2.5)*(189277033.34215*f**2 + 13076.1777481533*f - 4429092.80510167*f**1.5 + 1) + 6.28*f + 0.215))*I*f**(-1.16666666666667)*(5.04995085980541e-10*f**(-2.5)*(4.34844435324125e-22*f**2 + 1.50205839258242e-26*f - 7.63153745791915e-24*f**1.5) - 1.45021756685947e-39*f**(-2.5)*(189277033.34215*f**2 + 13076.1777481533*f - 4429092.80510167*f**1.5 + 1))\n",
        "\n",
        "def func_d(f):\n",
        "  return 8.18942472708988e-12*2.71828183**(1.0*I*(5.0499508598054e-10*f**(-2.5)*(189277033.34215*f**2 + 13076.1777481532*f - 4429092.80510167*f**1.5 + 1) + 6.28*f + 0.215))*I*f**(-1.16666666666667)*(5.0499508598054e-10*f**(-2.5)*(311243646.909243*f**2 + 12404.9160567701*f - 26412.3876967328*f**1.5) - 2.01998034392216e-9*f**(-2.5)*(189277033.34215*f**2 + 13076.1777481532*f - 4429092.80510167*f**1.5 + 1))\n",
        "\n",
        "#The function is called.\n",
        "integral()  "
      ],
      "execution_count": 16,
      "outputs": [
        {
          "output_type": "stream",
          "text": [
            "Fisher matrix =  [[52607.4482376717, 25.2011457054598, -9.26173490661068e-32, -0.380043724266229], [25.2011457054598, 0.0184547387882405, -6.93151443256994e-35, -0.000284426225324148], [-9.26173490661068e-32, -6.93151443256994e-35, 2.60089664851689e-67, 1.06724559476028e-36], [-0.380043724266229, -0.000284426225324148, 1.06724559476028e-36, 4.37930957385720e-6]]\n"
          ],
          "name": "stdout"
        }
      ]
    },
    {
      "cell_type": "markdown",
      "metadata": {
        "id": "DWmsWQiPSISe",
        "colab_type": "text"
      },
      "source": [
        "Afterwards, the stdev() function is used to calculate the standard deviation of the observables."
      ]
    },
    {
      "cell_type": "code",
      "metadata": {
        "id": "qZWOYaxFWd3I",
        "colab_type": "code",
        "colab": {
          "base_uri": "https://localhost:8080/",
          "height": 101
        },
        "outputId": "be35ca9a-1c76-45bf-86a5-80493dd176fd"
      },
      "source": [
        "#Fisher Matrix is copied here.\n",
        "matrix =[[52607.4482376717, 25.2011457054598, -9.26173490661068e-32, -0.380043724266229], [25.2011457054598, 0.0184547387882405, -6.93151443256994e-35, -0.000284426225324148], [-9.26173490661068e-32, -6.93151443256994e-35, 2.60089664851689e-67, 1.06724559476028e-36], [-0.380043724266229, -0.000284426225324148, 1.06724559476028e-36, 4.37930957385720e-6]]\n",
        "\n",
        "#Function is called.\n",
        "stdev(matrix)"
      ],
      "execution_count": 17,
      "outputs": [
        {
          "output_type": "stream",
          "text": [
            "Standard Deviation: \n",
            "Obs1 = 0.138274514802261\n",
            "Obs2 = 5337.34701214792\n",
            "Obs3 = 4.58075391311705e+39\n",
            "Obs4 = 1116003091.94917\n"
          ],
          "name": "stdout"
        }
      ]
    },
    {
      "cell_type": "markdown",
      "metadata": {
        "id": "EIv1rW9zM4N-",
        "colab_type": "text"
      },
      "source": [
        "The standard deviation of the 4 observables are calculated again through the same code but with the S(f) of the Einstein telescope being used instead. The data for the Power Spectral Density S(f) for the Einstein Telescope was also retrieved from ELEUM and the 5th order polynomial trendline from the scatter plot of the data was retrieved as can be seen in the picture below:\n",
        "\n",
        "![alt text](https://drive.google.com/uc?id=1RI384oB9axa1qqLDCZAe-SA6188Gum3Z)\n",
        "\n",
        "A function is made for the Power Spectral Density in the following code:"
      ]
    },
    {
      "cell_type": "code",
      "metadata": {
        "id": "MiQP2POUVz1U",
        "colab_type": "code",
        "colab": {}
      },
      "source": [
        "#Inputs the Power Spectral Density function for Einstein Telescope.\n",
        "def S(f):\n",
        "  fs = 1\n",
        "  fu = 4374.05439771\n",
        "  return -((2*10**(-36))*f**5) + ((5*10**(-32))*f**4) - ((5*10**(-28))*f**3) + ((2*10**(-24))*f**2) - ((3*10**(-21))*f) + 9*10**(-19)\n"
      ],
      "execution_count": 0,
      "outputs": []
    },
    {
      "cell_type": "markdown",
      "metadata": {
        "id": "xdGIuVHfZja1",
        "colab_type": "text"
      },
      "source": [
        "The constant A can be calculated through the following code:"
      ]
    },
    {
      "cell_type": "code",
      "metadata": {
        "id": "qpHZUa25ZrKF",
        "colab_type": "code",
        "outputId": "afc7ff95-557e-47c2-9934-95111e108d86",
        "colab": {
          "base_uri": "https://localhost:8080/",
          "height": 34
        }
      },
      "source": [
        "#fs and fu are used as lower and upper bound of integral.\n",
        "fs = 1\n",
        "fu = 4374.05439771\n",
        "\n",
        "#Calculates the integral required to calculate A.\n",
        "result = integrate.fixed_quad(lambda f: f**(-7/6)/S(f),fs,fu)\n",
        "\n",
        "#Calculates A.\n",
        "Asqr = 10/(4*result[0])\n",
        "A = math.sqrt(Asqr)\n",
        "print(\"A =\",A)"
      ],
      "execution_count": 19,
      "outputs": [
        {
          "output_type": "stream",
          "text": [
            "A = 5.13676080766209e-09\n"
          ],
          "name": "stdout"
        }
      ]
    },
    {
      "cell_type": "code",
      "metadata": {
        "id": "Z3weE9wNNI9t",
        "colab_type": "code",
        "colab": {}
      },
      "source": [
        "#The waveform h is inputed here.\n",
        "def h(tc,φc,Mc,ηc,f):\n",
        "  A = 5.13676080766209*10**(-9)  \n",
        "  return A*(f**(-7/6))*2.71828183**(1j*φ(tc,φc,Mc,ηc,f))\n",
        "\n",
        "def φ(tc,φc,Mc,ηc,f):\n",
        "  x = (3.14*f*Mc*(6.67408*10**(-11)))/((2.69440024*10**25))**(2/3)\n",
        "  υ = sqrt(x)\n",
        "  σ = 0.03734374999 - 0.0253125*ηc\n",
        "  β = (9.41666666667-1.444*ηc)*0.05\n",
        "  a2 = 4.91402116402 + 6.11111111111*ηc\n",
        "  a3 = 4*β - 16*3.14\n",
        "  a4 = 10*(3.0103152951+5.38591269841*ηc+4.28472222222*(ηc**2)-σ)\n",
        "  #a5 = (160.509656085 - 22.6777777778*ηc - 0.57721)*(1+3*log(υ)) \n",
        "  return (2*3.14*f*tc) + φc -0.785 + (3/(128*ηc*((x)**(5/2)))*(1+a2*(υ**2)+a3*(υ**3)+a4*(υ**4))) \n",
        "\n",
        "#Transforms these observables into instances of the Symbol class of the Sympy package required for the derivatives later. \n",
        "tc,φc,Mc,ηc,f = symbols('tc φc Mc ηc f')\n",
        "\n",
        "#The 4 observables of the waveform are inputed here.\n",
        "obs1 = tc\n",
        "obs2 = φc\n",
        "obs3 = Mc\n",
        "obs4 = ηc\n",
        "\n",
        "#The values that the 4 observables take after the differentiation are inputed here.\n",
        "obs1_af = 1\n",
        "obs2_af = 1\n",
        "obs3_af = 8.7055056*10**29\n",
        "obs4_af = 0.25\n",
        "\n",
        "#Here, the choice of which observables should be taken into account during the calculation of the Fisher-Matrix can be inputed.\n",
        "#In this case ηc is not taken into account so l is set to false.\n",
        "i = true  #if i is set to true then obs1 is taken into account and if i is set to false then obs1 is not taken into account.\n",
        "j = true  #if j is set to true then obs2 is taken into account and if j is set to false then obs2 is not taken into account.\n",
        "k = true  #if k is set to true then obs3 is taken into account and if k is set to false then obs3 is not taken into account.\n",
        "l = true  #if l is set to true then obs4 is taken into account and if l is set to false then obs4 is not taken into account.\n",
        "  "
      ],
      "execution_count": 0,
      "outputs": []
    },
    {
      "cell_type": "markdown",
      "metadata": {
        "id": "RNwDh-tBbE_6",
        "colab_type": "text"
      },
      "source": [
        "The derivatives are retrieved below:"
      ]
    },
    {
      "cell_type": "code",
      "metadata": {
        "id": "wzEb4aBibIz6",
        "colab_type": "code",
        "colab": {
          "base_uri": "https://localhost:8080/",
          "height": 121
        },
        "outputId": "166bc3e6-9acd-463d-8ca3-27eb0d2793c3"
      },
      "source": [
        "#Function derivatives() is called.\n",
        "derivatives() "
      ],
      "execution_count": 21,
      "outputs": [
        {
          "output_type": "stream",
          "text": [
            "The expressions that are obtained for each parameter are: \n",
            "func1 = 3.2258857890405e-8*2.71828183**(1.0*I*(5.04995085980541e-10*f**(-2.5)*(189277033.34215*f**2 + 13076.1777481532*f - 4429092.80510167*f**1.5 + 1) + 6.28*f + 0.215))*I*f**(-0.166666666666667)\n",
            "func2 = 5.13676081057405e-9*2.71828183**(1.0*I*(5.04995085980541e-10*f**(-2.5)*(189277033.34215*f**2 + 13076.1777481532*f - 4429092.80510167*f**1.5 + 1) + 6.28*f + 0.215))*I*f**(-1.16666666666667)\n",
            "func3 = 5.13676081057405e-9*2.71828183**(1.0*I*(5.04995085980541e-10*f**(-2.5)*(189277033.34215*f**2 + 13076.1777481533*f - 4429092.80510167*f**1.5 + 1) + 6.28*f + 0.215))*I*f**(-1.16666666666667)*(5.04995085980541e-10*f**(-2.5)*(4.34844435324125e-22*f**2 + 1.50205839258242e-26*f - 7.63153745791915e-24*f**1.5) - 1.45021756685947e-39*f**(-2.5)*(189277033.34215*f**2 + 13076.1777481533*f - 4429092.80510167*f**1.5 + 1))\n",
            "func4 = 5.13676081057405e-9*2.71828183**(1.0*I*(5.0499508598054e-10*f**(-2.5)*(189277033.34215*f**2 + 13076.1777481532*f - 4429092.80510167*f**1.5 + 1) + 6.28*f + 0.215))*I*f**(-1.16666666666667)*(5.0499508598054e-10*f**(-2.5)*(311243646.909243*f**2 + 12404.9160567701*f - 26412.3876967328*f**1.5) - 2.01998034392216e-9*f**(-2.5)*(189277033.34215*f**2 + 13076.1777481532*f - 4429092.80510167*f**1.5 + 1))\n"
          ],
          "name": "stdout"
        }
      ]
    },
    {
      "cell_type": "markdown",
      "metadata": {
        "id": "Bvz7ObJVOBOt",
        "colab_type": "text"
      },
      "source": [
        "The Fisher-Matrix is retrieved below:"
      ]
    },
    {
      "cell_type": "code",
      "metadata": {
        "id": "T52hYqHVOEgG",
        "colab_type": "code",
        "outputId": "c79fd70b-0d47-4044-beba-43ac1d6b6b8d",
        "colab": {
          "base_uri": "https://localhost:8080/",
          "height": 54
        }
      },
      "source": [
        "#The obtained expressions are copied into functions.\n",
        "def func_a(f):\n",
        "  return 3.2258857890405e-8*2.71828183**(1.0*I*(5.04995085980541e-10*f**(-2.5)*(189277033.34215*f**2 + 13076.1777481532*f - 4429092.80510167*f**1.5 + 1) + 6.28*f + 0.215))*I*f**(-0.166666666666667)\n",
        "\n",
        "def func_b(f):\n",
        "  return 5.13676081057405e-9*2.71828183**(1.0*I*(5.04995085980541e-10*f**(-2.5)*(189277033.34215*f**2 + 13076.1777481532*f - 4429092.80510167*f**1.5 + 1) + 6.28*f + 0.215))*I*f**(-1.16666666666667)\n",
        "\n",
        "def func_c(f):\n",
        "  return 5.13676081057405e-9*2.71828183**(1.0*I*(5.04995085980541e-10*f**(-2.5)*(189277033.34215*f**2 + 13076.1777481533*f - 4429092.80510167*f**1.5 + 1) + 6.28*f + 0.215))*I*f**(-1.16666666666667)*(5.04995085980541e-10*f**(-2.5)*(4.34844435324125e-22*f**2 + 1.50205839258242e-26*f - 7.63153745791915e-24*f**1.5) - 1.45021756685947e-39*f**(-2.5)*(189277033.34215*f**2 + 13076.1777481533*f - 4429092.80510167*f**1.5 + 1))\n",
        "\n",
        "def func_d(f):\n",
        "  return 5.13676081057405e-9*2.71828183**(1.0*I*(5.0499508598054e-10*f**(-2.5)*(189277033.34215*f**2 + 13076.1777481532*f - 4429092.80510167*f**1.5 + 1) + 6.28*f + 0.215))*I*f**(-1.16666666666667)*(5.0499508598054e-10*f**(-2.5)*(311243646.909243*f**2 + 12404.9160567701*f - 26412.3876967328*f**1.5) - 2.01998034392216e-9*f**(-2.5)*(189277033.34215*f**2 + 13076.1777481532*f - 4429092.80510167*f**1.5 + 1))\n",
        "\n",
        "#The function is called.\n",
        "integral()  "
      ],
      "execution_count": 22,
      "outputs": [
        {
          "output_type": "stream",
          "text": [
            "Fisher matrix =  [[-7059145.95114001, 276.700748493681, -2.37358817495755e-30, -9.74061193849728], [276.700748493681, 0.561373748570476, -2.23696381801319e-33, -0.00917924734416125], [-2.37358817495755e-30, -2.23696381801319e-33, 8.65366278539842e-66, 3.55096192783005e-35], [-9.74061193849728, -0.00917924734416125, 3.55096192783005e-35, 0.000145710907798214]]\n"
          ],
          "name": "stdout"
        }
      ]
    },
    {
      "cell_type": "markdown",
      "metadata": {
        "id": "PF7KgvsqdT64",
        "colab_type": "text"
      },
      "source": [
        "The standard deviation of the 4 observables is computed through the following code."
      ]
    },
    {
      "cell_type": "code",
      "metadata": {
        "id": "SCkBY6KfdfQ7",
        "colab_type": "code",
        "outputId": "d4df6bee-e1a0-4b85-d251-7d56f6493150",
        "colab": {
          "base_uri": "https://localhost:8080/",
          "height": 101
        }
      },
      "source": [
        "#Fisher Matrix is copied here.\n",
        "matrix = [[-7059145.95114001, 276.700748493681, -2.37358817495755e-30, -9.74061193849728], [276.700748493681, 0.561373748570476, -2.23696381801319e-33, -0.00917924734416125], [-2.37358817495755e-30, -2.23696381801319e-33, 8.65366278539842e-66, 3.55096192783005e-35], [-9.74061193849728, -0.00917924734416125, 3.55096192783005e-35, 0.000145710907798214]]\n",
        "\n",
        "#Function is called.\n",
        "stdev(matrix)"
      ],
      "execution_count": 23,
      "outputs": [
        {
          "output_type": "stream",
          "text": [
            "Standard Deviation: \n",
            "Obs1 = 0.00520548818394105\n",
            "Obs2 = 247.869715431811\n",
            "Obs3 = 2.30222266915638e+38\n",
            "Obs4 = 56089748.1446068\n"
          ],
          "name": "stdout"
        }
      ]
    },
    {
      "cell_type": "markdown",
      "metadata": {
        "id": "an0TUI1MkQow",
        "colab_type": "text"
      },
      "source": [
        "The following graphs that are drawn below compare the 2 Power Spectral Densities that were detected for each observable:"
      ]
    },
    {
      "cell_type": "code",
      "metadata": {
        "id": "U8C7UDBXyfm9",
        "colab_type": "code",
        "outputId": "5510bda1-68a5-4c15-c384-ff93a8ddadce",
        "colab": {
          "base_uri": "https://localhost:8080/",
          "height": 281
        }
      },
      "source": [
        "x = np.arange(2)\n",
        "stdev = [0.138274514802261, 0.00520548818394105]\n",
        "\n",
        "fig, ax = plt.subplots()\n",
        "#Labels the y-axis.\n",
        "ax.set_ylabel('Δtc')\n",
        "#Sets title of graph.\n",
        "ax.set_title('Standard Deviation of Δtc depending on the Power Spectral Density used')\n",
        "ax.set_xticks(x)\n",
        "ax.set_xticklabels(stdev)\n",
        "plt.bar(x, stdev)\n",
        "plt.xticks(x, ('Advanced LIGO', 'Einstein Telescope'))\n",
        "#Plots the graph.\n",
        "plt.show()"
      ],
      "execution_count": 24,
      "outputs": [
        {
          "output_type": "display_data",
          "data": {
            "image/png": "[encoded data removed]",
            "text/plain": [
              "<Figure size 432x288 with 1 Axes>"
            ]
          },
          "metadata": {
            "tags": []
          }
        }
      ]
    },
    {
      "cell_type": "code",
      "metadata": {
        "id": "bDq6bo0YrK8f",
        "colab_type": "code",
        "outputId": "7f0801fa-0441-4d38-ec41-a7b1aee2a168",
        "colab": {
          "base_uri": "https://localhost:8080/",
          "height": 281
        }
      },
      "source": [
        "x = np.arange(2)\n",
        "stdev = [5337.34701214792, 247.869715431811]\n",
        "\n",
        "fig, ax = plt.subplots()\n",
        "#Labels the y-axis.\n",
        "ax.set_ylabel('Δφc')\n",
        "#Sets title of graph.\n",
        "ax.set_title('Standard Deviation of Δφc depending on the Power Spectral Density used')\n",
        "ax.set_xticks(x)\n",
        "ax.set_xticklabels(stdev)\n",
        "plt.bar(x, stdev)\n",
        "plt.xticks(x, ('Advanced LIGO', 'Einstein Telescope'))\n",
        "#Plots the graph.\n",
        "plt.show()"
      ],
      "execution_count": 25,
      "outputs": [
        {
          "output_type": "display_data",
          "data": {
            "image/png": "[encoded data removed]",
            "text/plain": [
              "<Figure size 432x288 with 1 Axes>"
            ]
          },
          "metadata": {
            "tags": []
          }
        }
      ]
    },
    {
      "cell_type": "code",
      "metadata": {
        "id": "ACX_JJgHraV1",
        "colab_type": "code",
        "outputId": "88c8ecc9-f873-405e-c198-4c0b7ce28cb8",
        "colab": {
          "base_uri": "https://localhost:8080/",
          "height": 281
        }
      },
      "source": [
        "x = np.arange(2)\n",
        "stdev = [4.58075391311705e+39, 2.30222266915638e+38]\n",
        "\n",
        "fig, ax = plt.subplots()\n",
        "#Labels the y-axis.\n",
        "ax.set_ylabel('ΔMc')\n",
        "#Sets title of graph.\n",
        "ax.set_title('Standard Deviation of ΔMc depending on the Power Spectral Density used')\n",
        "ax.set_xticks(x)\n",
        "ax.set_xticklabels(stdev)\n",
        "plt.bar(x, stdev)\n",
        "plt.xticks(x, ('Advanced LIGO', 'Einstein Telescope'))\n",
        "#Plots the graph.\n",
        "plt.show()"
      ],
      "execution_count": 26,
      "outputs": [
        {
          "output_type": "display_data",
          "data": {
            "image/png": "[encoded data removed]",
            "text/plain": [
              "<Figure size 432x288 with 1 Axes>"
            ]
          },
          "metadata": {
            "tags": []
          }
        }
      ]
    },
    {
      "cell_type": "code",
      "metadata": {
        "id": "EHv7akfjroAO",
        "colab_type": "code",
        "outputId": "9b6b04f1-9139-443a-bcd0-8c3a5eb648b6",
        "colab": {
          "base_uri": "https://localhost:8080/",
          "height": 281
        }
      },
      "source": [
        "x = np.arange(2)\n",
        "stdev = [1116003091.94917, 56089748.1446068]\n",
        "\n",
        "fig, ax = plt.subplots()\n",
        "#Labels the y-axis.\n",
        "ax.set_ylabel('Δηc')\n",
        "#Sets title of graph.\n",
        "ax.set_title('Standard Deviation of Δηc depending on the Power Spectral Density used')\n",
        "ax.set_xticks(x)\n",
        "ax.set_xticklabels(stdev)\n",
        "plt.bar(x, stdev)\n",
        "plt.xticks(x, ('Advanced LIGO', 'Einstein Telescope'))\n",
        "#Plots the graph.\n",
        "plt.show()"
      ],
      "execution_count": 27,
      "outputs": [
        {
          "output_type": "display_data",
          "data": {
            "image/png": "[encoded data removed]",
            "text/plain": [
              "<Figure size 432x288 with 1 Axes>"
            ]
          },
          "metadata": {
            "tags": []
          }
        }
      ]
    },
    {
      "cell_type": "markdown",
      "metadata": {
        "id": "mBMiuXw4elsE",
        "colab_type": "text"
      },
      "source": [
        "As it can be observed from the following graphs, the Standard Deviation seems to be much bigger when the AdvancedLIGO is used compared to when the Einstein Telescope is used."
      ]
    }
  ]
}