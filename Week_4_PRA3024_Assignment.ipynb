{
  "nbformat": 4,
  "nbformat_minor": 0,
  "metadata": {
    "colab": {
      "name": "Week 4 PRA3024 Assignment",
      "provenance": [],
      "collapsed_sections": []
    },
    "kernelspec": {
      "name": "python2",
      "display_name": "Python 2"
    }
  },
  "cells": [
    {
      "cell_type": "markdown",
      "metadata": {
        "id": "1JafiSIrvEKW",
        "colab_type": "text"
      },
      "source": [
        "Welcome to Week 4!\n",
        "\n",
        "We will be focussing in Particle Physics Analysis and detecting matter/antimatter assymetries in the production of certain types of particles. ![LHCb detector](https://www1b.physik.rwth-aachen.de/~schael/LHCb_files/LHCB%20PREVIEW-white-bg.jpg)\n",
        "\n",
        "The data we are using comes from LHCb - one of the experiments at LHC. It is a highly specialised detector aimed at detecting decays involving the B-quark. Unlike the other major experiments, LHCb detects particles very close to the source and looks almost exclusively in the forward direction - this gives the detector many advantages compared to other experiments at LHC.\n",
        "\n",
        "In order to get started, we need to access the [ROOT framework](https://root.cern.ch/) and download some datafiles into this machine.\n",
        "\n",
        "Before we start - we have to use Python2 (not Python 3), so we should choose this as an option in \"Runtime\" -> \"Change Runtime Type\" at the top."
      ]
    },
    {
      "cell_type": "code",
      "metadata": {
        "id": "vFclIR72w0mU",
        "colab_type": "code",
        "outputId": "9cc4d809-63ab-42d5-8bd7-9035b1dac2ff",
        "colab": {
          "base_uri": "https://localhost:8080/",
          "height": 202
        }
      },
      "source": [
        "#we are going to make a directory called APPS\n",
        "!mkdir -p APPS\n",
        "#Now we move to our directory called APPS and we download ROOT from the CERN server, this version is chosen because it runs on this machine - if you want to run this locally check the versions!\n",
        "!cd APPS && wget https://root.cern.ch/download/root_v6.13.08.Linux-ubuntu18-x86_64-gcc7.3.tar.gz \n",
        "#Now we extract our downloaded file:\n",
        "!cd APPS && tar -xf root_v6.13.08.Linux-ubuntu18-x86_64-gcc7.3.tar.gz\n"
      ],
      "execution_count": 172,
      "outputs": [
        {
          "output_type": "stream",
          "text": [
            "--2020-03-08 22:25:14--  https://root.cern.ch/download/root_v6.13.08.Linux-ubuntu18-x86_64-gcc7.3.tar.gz\n",
            "Resolving root.cern.ch (root.cern.ch)... 137.138.13.143, 2001:1458:201:45::100:b\n",
            "Connecting to root.cern.ch (root.cern.ch)|137.138.13.143|:443... connected.\n",
            "HTTP request sent, awaiting response... 200 OK\n",
            "Length: 137415272 (131M) [application/x-gzip]\n",
            "Saving to: ‘root_v6.13.08.Linux-ubuntu18-x86_64-gcc7.3.tar.gz.4’\n",
            "\n",
            "root_v6.13.08.Linux 100%[===================>] 131.05M  18.9MB/s    in 8.1s    \n",
            "\n",
            "2020-03-08 22:25:22 (16.3 MB/s) - ‘root_v6.13.08.Linux-ubuntu18-x86_64-gcc7.3.tar.gz.4’ saved [137415272/137415272]\n",
            "\n"
          ],
          "name": "stdout"
        }
      ]
    },
    {
      "cell_type": "code",
      "metadata": {
        "id": "COPyXIvbxqht",
        "colab_type": "code",
        "outputId": "bcaef6b6-746e-48ba-92ae-05b297c21f3b",
        "colab": {
          "base_uri": "https://localhost:8080/",
          "height": 34
        }
      },
      "source": [
        "#now we can extract some files from ROOT and ensure that we can access the libraries. We use some python key words to get access to the right files:\n",
        "\n",
        "import sys\n",
        "\n",
        "sys.path.append(\"/content/APPS/root/lib\")\n",
        "\n",
        "import ctypes\n",
        "\n",
        "ctypes.cdll.LoadLibrary('/content/APPS/root/lib/libCore.so')\n",
        "\n",
        "ctypes.cdll.LoadLibrary('/content/APPS/root/lib/libThread.so')\n",
        "\n",
        "ctypes.cdll.LoadLibrary('/content/APPS/root/lib/libImt.so')\n",
        "\n",
        "ctypes.cdll.LoadLibrary('/content/APPS/root/lib/libRIO.so')\n",
        "\n",
        "ctypes.cdll.LoadLibrary('/content/APPS/root/lib/libNet.so')\n",
        "\n",
        "ctypes.cdll.LoadLibrary('/content/APPS/root/lib/libTree.so')\n",
        "\n",
        "ctypes.cdll.LoadLibrary('/content/APPS/root/lib/libMathCore.so')\n",
        "\n",
        "ctypes.cdll.LoadLibrary('/content/APPS/root/lib/libMatrix.so')\n",
        "\n",
        "ctypes.cdll.LoadLibrary('/content/APPS/root/lib/libHist.so')\n",
        "\n",
        "ctypes.cdll.LoadLibrary('/content/APPS/root/lib/libGraf.so')\n",
        "\n",
        "ctypes.cdll.LoadLibrary('/content/APPS/root/lib/libMultiProc.so')\n",
        "\n",
        "ctypes.cdll.LoadLibrary('/content/APPS/root/lib/libMinuit.so')\n",
        "\n",
        "ctypes.cdll.LoadLibrary('/content/APPS/root/lib/libFoam.so')"
      ],
      "execution_count": 173,
      "outputs": [
        {
          "output_type": "execute_result",
          "data": {
            "text/plain": [
              "<CDLL '/content/APPS/root/lib/libFoam.so', handle 557a733dea00 at 7ff6420c93d0>"
            ]
          },
          "metadata": {
            "tags": []
          },
          "execution_count": 173
        }
      ]
    },
    {
      "cell_type": "code",
      "metadata": {
        "id": "QTVz7NQMyDCb",
        "colab_type": "code",
        "outputId": "336dca2e-f51c-4d68-c030-64381f09524f",
        "colab": {
          "base_uri": "https://localhost:8080/",
          "height": 606
        }
      },
      "source": [
        "#Now we can check if we have everything working as we expect: \n",
        "#Import brings the ROOT framework into our python environment.\n",
        "import ROOT\n",
        "#We define a 1 dimensional histogram, with 100 bins which ranges from -4 to +4\n",
        "h = ROOT.TH1F(\"gauss\",\"Example histogram\",100,-4,4)\n",
        "#Fill the histogram with gaussian (random) distribution\n",
        "h.FillRandom(\"gaus\")\n",
        "#make a Canvas (i.e. a drawing)\n",
        "c = ROOT.TCanvas(\"myCanvasName\",\"The Canvas Title\",800,600)\n",
        "#Draw my histogram\n",
        "h.Draw()\n",
        "#Show me the canvas\n",
        "c.Draw()"
      ],
      "execution_count": 174,
      "outputs": [
        {
          "output_type": "stream",
          "text": [
            "Warning in <TFile::Append>: Replacing existing TH1: gauss (Potential memory leak).\n"
          ],
          "name": "stderr"
        },
        {
          "output_type": "display_data",
          "data": {
            "image/png": "[encoded data removed]",
            "text/plain": [
              "<IPython.core.display.Image object>"
            ]
          },
          "metadata": {
            "tags": []
          }
        }
      ]
    },
    {
      "cell_type": "markdown",
      "metadata": {
        "id": "VXW1M6XB0tXP",
        "colab_type": "text"
      },
      "source": [
        "All being well - this should give no errors and we should have some kind of Gaussian distribution above.\n",
        "\n",
        "The next step is to get our data from CERN:"
      ]
    },
    {
      "cell_type": "code",
      "metadata": {
        "id": "owIltKHIAmfl",
        "colab_type": "code",
        "outputId": "059e02cc-4466-439e-ad08-62061a49edd5",
        "colab": {
          "base_uri": "https://localhost:8080/",
          "height": 202
        }
      },
      "source": [
        "!mkdir -p DATA && cd DATA  && wget http://opendata.cern.ch/record/4900/files/B2HHH_MagnetUp.root"
      ],
      "execution_count": 175,
      "outputs": [
        {
          "output_type": "stream",
          "text": [
            "--2020-03-08 22:25:30--  http://opendata.cern.ch/record/4900/files/B2HHH_MagnetUp.root\n",
            "Resolving opendata.cern.ch (opendata.cern.ch)... 188.184.28.138, 188.184.93.89, 188.185.82.144, ...\n",
            "Connecting to opendata.cern.ch (opendata.cern.ch)|188.184.28.138|:80... connected.\n",
            "HTTP request sent, awaiting response... 200 OK\n",
            "Length: 444723234 (424M) [application/octet-stream]\n",
            "Saving to: ‘B2HHH_MagnetUp.root.4’\n",
            "\n",
            "B2HHH_MagnetUp.root 100%[===================>] 424.12M  9.95MB/s    in 54s     \n",
            "\n",
            "2020-03-08 22:26:26 (7.79 MB/s) - ‘B2HHH_MagnetUp.root.4’ saved [444723234/444723234]\n",
            "\n"
          ],
          "name": "stdout"
        }
      ]
    },
    {
      "cell_type": "code",
      "metadata": {
        "id": "44Z6RCxgKyMq",
        "colab_type": "code",
        "outputId": "c91ce1af-524d-4251-91d4-203ecf790a50",
        "colab": {
          "base_uri": "https://localhost:8080/",
          "height": 34
        }
      },
      "source": [
        "ctypes.cdll.LoadLibrary('/content/APPS/root/lib/libGraf3d.so')"
      ],
      "execution_count": 176,
      "outputs": [
        {
          "output_type": "execute_result",
          "data": {
            "text/plain": [
              "<CDLL '/content/APPS/root/lib/libGraf3d.so', handle 557a78403700 at 7ff641f8f710>"
            ]
          },
          "metadata": {
            "tags": []
          },
          "execution_count": 176
        }
      ]
    },
    {
      "cell_type": "code",
      "metadata": {
        "id": "Co476pbmBvBB",
        "colab_type": "code",
        "outputId": "ad268a91-c21b-4bdc-f653-2ce482e5d06a",
        "colab": {
          "base_uri": "https://localhost:8080/",
          "height": 506
        }
      },
      "source": [
        "#Since we need to use ROOT, we must first import this into Python:\n",
        "import ROOT\n",
        "#Then we open the ROOT file using the TFile command.\n",
        "f = ROOT.TFile.Open(\"DATA/B2HHH_MagnetUp.root\", \"READONLY\")\n",
        "#From our file, we have to extract the DecayTree \n",
        "tree=f.Get(\"DecayTree\")\n",
        "#Now we can grab some variables as a test:\n",
        "ymomentum = ROOT.RooRealVar(\"H1_PY\",\"H1 Y Momentum\",0,10000,\"MeV/c\")\n",
        "xmomentum = ROOT.RooRealVar(\"H1_PX\",\"H1 X Momentum\",0,10000,\"MeV/c\")\n",
        "zmomentum = ROOT.RooRealVar(\"H1_PZ\",\"H1 Z Momentum\",0,10000,\"MeV/c\")\n",
        "# We then create a dataset for us to play with\n",
        "data = ROOT.RooDataSet(\"data\",\"data set\", tree, ROOT.RooArgSet(xmomentum,ymomentum,zmomentum), \"1==1\")\n",
        "# Now we create a canvas, plot our data onto the canvas and draw it:\n",
        "c = ROOT.TCanvas(\"c\",\"c\")\n",
        "frame = xmomentum.frame()\n",
        "data.plotOn(frame)\n",
        "frame.Draw()\n",
        "c.Draw()"
      ],
      "execution_count": 177,
      "outputs": [
        {
          "output_type": "stream",
          "text": [
            "[#1] INFO:Eval -- RooTreeDataStore::loadValues(data) Ignored 3238126 out of range events\n"
          ],
          "name": "stdout"
        },
        {
          "output_type": "display_data",
          "data": {
            "image/png": "[encoded data removed]",
            "text/plain": [
              "<IPython.core.display.Image object>"
            ]
          },
          "metadata": {
            "tags": []
          }
        }
      ]
    },
    {
      "cell_type": "markdown",
      "metadata": {
        "id": "4e4n4iS3IJZi",
        "colab_type": "text"
      },
      "source": [
        "#Why are we here?\n",
        "\n",
        "This week is about finding out something about one of the fundemental questions in physics. Why do we have \"stuff\".\n",
        "\n",
        "According to many of our models, and according to many measurements in particle physics, matter and anti-matter appear to be produced in equal quantities.\n",
        "\n",
        "However, when one looks at the Universe in general, we have more matter than anti-matter left - so there need to be some processes where anti-matter and matter are not produced equally. You can find out more about the Matter/Anti-Matter Asymmetry [here](http://press.web.cern.ch/backgrounders/matterantimatter-asymmetry)\n",
        "\n",
        "One place we look for this asymetry is in [charge-partity (CP) violation](https://www.symmetrymagazine.org/article/october-2005/explain-it-in-60-seconds) in particle physics processes. This essentially says that the processes that happen in the anti-particle version of a decay do not **exactly** match to the processes that happen in the particle version of the decay.\n",
        "\n",
        "\n",
        "\n",
        "---\n",
        "\n",
        "\n",
        "\n",
        "At LHCb, we produce both particle of the  B<sup>+</sup> meson and it's antiparticle the B<sup>-</sup> meson.\n",
        "\n",
        "We cannot detect these mesons directly. They decay into other things before we have a chance to measure them properly. So we collect data on the decay products, often called daughter particles. There are 524 [documented](http://pdg.lbl.gov/2014/listings/rpp2014-list-B-plus-minus.pdf) ways that the B<sup>+/-</sup> decays into various combinations. In order to simplify the process, we choose decay combinations that are convenient or have particular properties.\n",
        "\n",
        "In this analysis, we will take the process:-\n",
        "\n",
        "B<sup>+</sup>->K<sup>+</sup> + K<sup>+</sup>  + K<sup>-</sup>\n",
        "\n",
        "or\n",
        "\n",
        "B<sup>-</sup>->K<sup>-</sup> + K<sup>-</sup>  + K<sup>+</sup>\n",
        "\n",
        "\n",
        "To do so, we are given the following data for each event in our system:-\n",
        "\n",
        "![alt text](https://raw.githubusercontent.com/lhcb/opendata-project/80d64a3796e593fc8f9b257e85f32ae2e54f131f/Images/Variables.png)\n",
        "\n",
        "Here, H1 is the detected daughter particle (so a Kaon or a Pion), **not** the B-meson - the mother particle. We have to use some detective work to extract the information we need on the original physics process at play.\n",
        "\n",
        "\n",
        "Let's get started with working with this data:"
      ]
    },
    {
      "cell_type": "markdown",
      "metadata": {
        "id": "LOhfj7kfP-ao",
        "colab_type": "text"
      },
      "source": [
        "For our analysis, the momentum of each of the daughter particles is split into the three cartesian components. We need to first combine this into a single measurement"
      ]
    },
    {
      "cell_type": "code",
      "metadata": {
        "id": "Y4keyoyTPjsK",
        "colab_type": "code",
        "colab": {}
      },
      "source": [
        "#We need to tell Python what the total momentum is defined as mathematically - do that in this code block:\n",
        "#Hint: I suggest we define a function which we might want to use later - something like:\n",
        "\n",
        "def p_tot_daughter(daughter):\n",
        "  p_tot = \"sqrt((\"+daughter+\"_PX)**2+(\"+daughter+\"_PY)**2+(\"+daughter+\"_PZ**2))\"\n",
        "  return p_tot\n"
      ],
      "execution_count": 0,
      "outputs": []
    },
    {
      "cell_type": "markdown",
      "metadata": {
        "id": "C1lXLMCoR1Gi",
        "colab_type": "text"
      },
      "source": [
        "Now plot the total momentum for one (or more) of the daughter particles."
      ]
    },
    {
      "cell_type": "code",
      "metadata": {
        "id": "6kdbiNpPR1QG",
        "colab_type": "code",
        "outputId": "f0a6b89a-23b7-42b6-9c73-50f69dac0d15",
        "colab": {
          "base_uri": "https://localhost:8080/",
          "height": 589
        }
      },
      "source": [
        "#use the histogram plotting tools, call your function to find the total momentum and then plot it!\n",
        "\n",
        "#Then we open the ROOT file using the TFile command.\n",
        "f = ROOT.TFile.Open(\"DATA/B2HHH_MagnetUp.root\", \"READONLY\")\n",
        "#From our file, we have to extract the DecayTree \n",
        "tree=f.Get(\"DecayTree\")\n",
        "# Now we create a canvas, plot our data onto the canvas and draw it:\n",
        "\n",
        "c = ROOT.TCanvas(\"myCanvasName2\",\"The Canvas Title\",800,600)\n",
        "#This string (below) is the total momentum of the H1 particle\n",
        "tree.Draw(p_tot_daughter(\"H1\")+\">>histogram1(100,0,300000)\")\n",
        "#tree.Draw(\"sqrt((H1_PX**2)+(H1_PY**2)+(H1_PZ**2))+>>histogram1,100\")\n",
        "histogram1 = ROOT.gDirectory.Get(\"histogram1\")\n",
        "#histogram1.Draw()\n",
        "#Show me the canvas\n",
        "c.Draw()\n"
      ],
      "execution_count": 179,
      "outputs": [
        {
          "output_type": "display_data",
          "data": {
            "image/png": "[encoded data removed]",
            "text/plain": [
              "<IPython.core.display.Image object>"
            ]
          },
          "metadata": {
            "tags": []
          }
        }
      ]
    },
    {
      "cell_type": "code",
      "metadata": {
        "id": "RjzZr1M-b0mi",
        "colab_type": "code",
        "outputId": "da212980-feaa-4a79-e7bd-a7116e38e5ac",
        "colab": {
          "base_uri": "https://localhost:8080/",
          "height": 589
        }
      },
      "source": [
        "#Then we open the ROOT file using the TFile command.\n",
        "f = ROOT.TFile.Open(\"DATA/B2HHH_MagnetUp.root\", \"READONLY\")\n",
        "#From our file, we have to extract the DecayTree \n",
        "tree=f.Get(\"DecayTree\")\n",
        "# Now we create a canvas, plot our data onto the canvas and draw it:\n",
        "\n",
        "c = ROOT.TCanvas(\"myCanvasName3\",\"The Canvas Title\",800,600)\n",
        "#This string (below) is the total momentum of the H1 particle\n",
        "tree.Draw(p_tot_daughter(\"H2\")+\">>histogram1(100,0,300000)\")\n",
        "#tree.Draw(\"sqrt((H1_PX**2)+(H1_PY**2)+(H1_PZ**2))+>>histogram1,100\")\n",
        "histogram1 = ROOT.gDirectory.Get(\"histogram1\")\n",
        "#histogram1.Draw()\n",
        "#Show me the canvas\n",
        "c.Draw()"
      ],
      "execution_count": 180,
      "outputs": [
        {
          "output_type": "display_data",
          "data": {
            "image/png": "[encoded data removed]",
            "text/plain": [
              "<IPython.core.display.Image object>"
            ]
          },
          "metadata": {
            "tags": []
          }
        }
      ]
    },
    {
      "cell_type": "code",
      "metadata": {
        "id": "dWmHSKYib8wq",
        "colab_type": "code",
        "outputId": "3f627264-10ba-403a-9cb6-cd013cfdc378",
        "colab": {
          "base_uri": "https://localhost:8080/",
          "height": 589
        }
      },
      "source": [
        "#Then we open the ROOT file using the TFile command.\n",
        "f = ROOT.TFile.Open(\"DATA/B2HHH_MagnetUp.root\", \"READONLY\")\n",
        "#From our file, we have to extract the DecayTree \n",
        "tree=f.Get(\"DecayTree\")\n",
        "# Now we create a canvas, plot our data onto the canvas and draw it:\n",
        "\n",
        "c = ROOT.TCanvas(\"myCanvasName4\",\"The Canvas Title\",800,600)\n",
        "#This string (below) is the total momentum of the H1 particle\n",
        "tree.Draw(p_tot_daughter(\"H3\")+\">>histogram1(100,0,300000)\")\n",
        "#tree.Draw(\"sqrt((H1_PX**2)+(H1_PY**2)+(H1_PZ**2))+>>histogram1,100\")\n",
        "histogram1 = ROOT.gDirectory.Get(\"histogram1\")\n",
        "#histogram1.Draw()\n",
        "#Show me the canvas\n",
        "c.Draw()"
      ],
      "execution_count": 181,
      "outputs": [
        {
          "output_type": "display_data",
          "data": {
            "image/png": "[encoded data removed]",
            "text/plain": [
              "<IPython.core.display.Image object>"
            ]
          },
          "metadata": {
            "tags": []
          }
        }
      ]
    },
    {
      "cell_type": "markdown",
      "metadata": {
        "id": "Gj5qv5kqSMIF",
        "colab_type": "text"
      },
      "source": [
        "The next step is to use the total momentum of the Kaon and its invarient mass (found with a small amount of research) and your relativity knowledge to get an equation for the energy of the Kaon. "
      ]
    },
    {
      "cell_type": "code",
      "metadata": {
        "id": "QMkih_6SSG8I",
        "colab_type": "code",
        "outputId": "5674e768-d0a0-47c3-e2be-13056e6fa678",
        "colab": {
          "base_uri": "https://localhost:8080/",
          "height": 606
        }
      },
      "source": [
        "#let's make a function to find the energy of a Kaon, if you add in the total momentum found in the previous steps - you should be able to do so reasonably easily\n",
        "\n",
        "def E_tot_daughter(daughter):\n",
        "  E_tot = \"sqrt(((\"+daughter+\"_PX)**2+(\"+daughter+\"_PY)**2+(\"+daughter+\"_PZ)**2) + (493.677**2))\"\n",
        "  return E_tot\n",
        "\n",
        "#Then we open the ROOT file using the TFile command.\n",
        "f = ROOT.TFile.Open(\"DATA/B2HHH_MagnetUp.root\", \"READONLY\")\n",
        "#From our file, we have to extract the DecayTree \n",
        "tree=f.Get(\"DecayTree\")\n",
        "# Now we create a canvas, plot our data onto the canvas and draw it:\n",
        "\n",
        "c = ROOT.TCanvas(\"myCanvasName4\",\"The Canvas Title\",800,600)\n",
        "#This string (below) is the total momentum of the H1 particle\n",
        "tree.Draw(E_tot_daughter(\"H1\")+\">>histogram1(100,0,100000)\")\n",
        "#tree.Draw(\"sqrt((H1_PX**2)+(H1_PY**2)+(H1_PZ**2))+>>histogram1,100\")\n",
        "histogram1 = ROOT.gDirectory.Get(\"histogram1\")\n",
        "#histogram1.Draw()\n",
        "#Show me the canvas\n",
        "c.Draw()\n"
      ],
      "execution_count": 182,
      "outputs": [
        {
          "output_type": "stream",
          "text": [
            "Warning in <TCanvas::Constructor>: Deleting canvas with same name: myCanvasName4\n"
          ],
          "name": "stderr"
        },
        {
          "output_type": "display_data",
          "data": {
            "image/png": "[encoded data removed]",
            "text/plain": [
              "<IPython.core.display.Image object>"
            ]
          },
          "metadata": {
            "tags": []
          }
        }
      ]
    },
    {
      "cell_type": "code",
      "metadata": {
        "id": "XVOheT6FgJF0",
        "colab_type": "code",
        "outputId": "5db56ce1-7f0b-4b1a-e5a5-0bdd03c6404e",
        "colab": {
          "base_uri": "https://localhost:8080/",
          "height": 606
        }
      },
      "source": [
        "#Then we open the ROOT file using the TFile command.\n",
        "f = ROOT.TFile.Open(\"DATA/B2HHH_MagnetUp.root\", \"READONLY\")\n",
        "#From our file, we have to extract the DecayTree \n",
        "tree=f.Get(\"DecayTree\")\n",
        "# Now we create a canvas, plot our data onto the canvas and draw it:\n",
        "\n",
        "c = ROOT.TCanvas(\"myCanvasName4\",\"The Canvas Title\",800,600)\n",
        "#This string (below) is the total momentum of the H1 particle\n",
        "tree.Draw(E_tot_daughter(\"H2\")+\">>histogram1(100,0,100000)\")\n",
        "#tree.Draw(\"sqrt((H1_PX**2)+(H1_PY**2)+(H1_PZ**2))+>>histogram1,100\")\n",
        "histogram1 = ROOT.gDirectory.Get(\"histogram1\")\n",
        "#histogram1.Draw()\n",
        "#Show me the canvas\n",
        "c.Draw()"
      ],
      "execution_count": 183,
      "outputs": [
        {
          "output_type": "stream",
          "text": [
            "Warning in <TCanvas::Constructor>: Deleting canvas with same name: myCanvasName4\n"
          ],
          "name": "stderr"
        },
        {
          "output_type": "display_data",
          "data": {
            "image/png": "[encoded data removed]",
            "text/plain": [
              "<IPython.core.display.Image object>"
            ]
          },
          "metadata": {
            "tags": []
          }
        }
      ]
    },
    {
      "cell_type": "code",
      "metadata": {
        "id": "ssqO6gAzgNSr",
        "colab_type": "code",
        "outputId": "3c6ab6d5-5de8-414c-e543-523545fcfb7b",
        "colab": {
          "base_uri": "https://localhost:8080/",
          "height": 606
        }
      },
      "source": [
        "#Then we open the ROOT file using the TFile command.\n",
        "f = ROOT.TFile.Open(\"DATA/B2HHH_MagnetUp.root\", \"READONLY\")\n",
        "#From our file, we have to extract the DecayTree \n",
        "tree=f.Get(\"DecayTree\")\n",
        "# Now we create a canvas, plot our data onto the canvas and draw it:\n",
        "\n",
        "c = ROOT.TCanvas(\"myCanvasName4\",\"The Canvas Title\",800,600)\n",
        "#This string (below) is the total momentum of the H1 particle\n",
        "tree.Draw(E_tot_daughter(\"H3\")+\">>histogram1(100,0,300000)\")\n",
        "#tree.Draw(\"sqrt((H1_PX**2)+(H1_PY**2)+(H1_PZ**2))+>>histogram1,100\")\n",
        "histogram1 = ROOT.gDirectory.Get(\"histogram1\")\n",
        "#histogram1.Draw()\n",
        "#Show me the canvas\n",
        "c.Draw()"
      ],
      "execution_count": 184,
      "outputs": [
        {
          "output_type": "stream",
          "text": [
            "Warning in <TCanvas::Constructor>: Deleting canvas with same name: myCanvasName4\n"
          ],
          "name": "stderr"
        },
        {
          "output_type": "display_data",
          "data": {
            "image/png": "[encoded data removed]",
            "text/plain": [
              "<IPython.core.display.Image object>"
            ]
          },
          "metadata": {
            "tags": []
          }
        }
      ]
    },
    {
      "cell_type": "markdown",
      "metadata": {
        "id": "w3sqwtNTUEJd",
        "colab_type": "text"
      },
      "source": [
        "We have now completed the initial steps and begun to work through what we need to with the data. This workflow is divided into 4 stages, just for easier viewing and comprehension."
      ]
    },
    {
      "cell_type": "markdown",
      "metadata": {
        "id": "jCZkmmbVfhSg",
        "colab_type": "text"
      },
      "source": [
        "Having discovered all of the relevant information about our daughter particles, we need to combine the measurements about them into a single mother - which will be our B+ or our B-"
      ]
    },
    {
      "cell_type": "code",
      "metadata": {
        "id": "J62I5p5kfmBt",
        "colab_type": "code",
        "outputId": "5ff45000-a239-43c8-ae5d-3b59af2291b4",
        "colab": {
          "base_uri": "https://localhost:8080/",
          "height": 34
        }
      },
      "source": [
        "#Calculate the energy of the B meson, using the conservation of energy - just combine the energies to give a total\n",
        "def E_tot():\n",
        "  return E_tot_daughter(\"H1\")+\"+\"+E_tot_daughter(\"H2\")+\"+\"+E_tot_daughter(\"H3\")    \n",
        "\n",
        "E_tot()  "
      ],
      "execution_count": 185,
      "outputs": [
        {
          "output_type": "execute_result",
          "data": {
            "text/plain": [
              "'sqrt(((H1_PX)**2+(H1_PY)**2+(H1_PZ)**2) + (493.677**2))+sqrt(((H2_PX)**2+(H2_PY)**2+(H2_PZ)**2) + (493.677**2))+sqrt(((H3_PX)**2+(H3_PY)**2+(H3_PZ)**2) + (493.677**2))'"
            ]
          },
          "metadata": {
            "tags": []
          },
          "execution_count": 185
        }
      ]
    },
    {
      "cell_type": "code",
      "metadata": {
        "id": "YipFBvGagVN_",
        "colab_type": "code",
        "outputId": "4cb17f79-2ab9-408b-8284-39d0f4b623d0",
        "colab": {
          "base_uri": "https://localhost:8080/",
          "height": 606
        }
      },
      "source": [
        "#Then we open the ROOT file using the TFile command.\n",
        "f = ROOT.TFile.Open(\"DATA/B2HHH_MagnetUp.root\", \"READONLY\")\n",
        "#From our file, we have to extract the DecayTree \n",
        "tree=f.Get(\"DecayTree\")\n",
        "# Now we create a canvas, plot our data onto the canvas and draw it:\n",
        "\n",
        "c = ROOT.TCanvas(\"myCanvasName4\",\"The Canvas Title\",800,600)\n",
        "#This string (below) is the total momentum of the H1 particle\n",
        "tree.Draw(E_tot()+\">>histogram1(100,0,300000)\")\n",
        "#tree.Draw(\"sqrt((H1_PX**2)+(H1_PY**2)+(H1_PZ**2))+>>histogram1,100\")\n",
        "histogram1 = ROOT.gDirectory.Get(\"histogram1\")\n",
        "#histogram1.Draw()\n",
        "#Show me the canvas\n",
        "c.Draw()"
      ],
      "execution_count": 186,
      "outputs": [
        {
          "output_type": "stream",
          "text": [
            "Warning in <TCanvas::Constructor>: Deleting canvas with same name: myCanvasName4\n"
          ],
          "name": "stderr"
        },
        {
          "output_type": "display_data",
          "data": {
            "image/png": "[encoded data removed]",
            "text/plain": [
              "<IPython.core.display.Image object>"
            ]
          },
          "metadata": {
            "tags": []
          }
        }
      ]
    },
    {
      "cell_type": "code",
      "metadata": {
        "id": "MwmeBsXkhEHc",
        "colab_type": "code",
        "outputId": "db4ad543-bb2c-4ad8-bc11-d4d025597210",
        "colab": {
          "base_uri": "https://localhost:8080/",
          "height": 34
        }
      },
      "source": [
        "#Calculate the momentum of the B meson. To do this, you need to first combine all the x momenta of the daughters,\n",
        "#to get a total x momentum of the mother; then you can combine your three momenta into total momentum\n",
        "def px_tot():\n",
        "  return \"H1_PX + H2_PX + H3_PX\"\n",
        "\n",
        "def py_tot():\n",
        "  return \"H1_PY + H2_PY + H3_PY\"\n",
        "\n",
        "def pz_tot():\n",
        "  return \"H1_PZ + H2_PZ + H3_PZ\"  \n",
        "\n",
        "def p_tot():\n",
        "  return \"sqrt(((\"+px_tot()+\")**2) + ((\"+py_tot()+\")**2) + ((\"+pz_tot()+\")**2))\"  \n",
        "\n",
        "p_tot() "
      ],
      "execution_count": 187,
      "outputs": [
        {
          "output_type": "execute_result",
          "data": {
            "text/plain": [
              "'sqrt(((H1_PX + H2_PX + H3_PX)**2) + ((H1_PY + H2_PY + H3_PY)**2) + ((H1_PZ + H2_PZ + H3_PZ)**2))'"
            ]
          },
          "metadata": {
            "tags": []
          },
          "execution_count": 187
        }
      ]
    },
    {
      "cell_type": "code",
      "metadata": {
        "id": "8xAtAZg6i3lV",
        "colab_type": "code",
        "outputId": "5ef1713f-24d5-4373-ce62-debc9191bd28",
        "colab": {
          "base_uri": "https://localhost:8080/",
          "height": 606
        }
      },
      "source": [
        "#Then we open the ROOT file using the TFile command.\n",
        "f = ROOT.TFile.Open(\"DATA/B2HHH_MagnetUp.root\", \"READONLY\")\n",
        "#From our file, we have to extract the DecayTree \n",
        "tree=f.Get(\"DecayTree\")\n",
        "# Now we create a canvas, plot our data onto the canvas and draw it:\n",
        "\n",
        "c = ROOT.TCanvas(\"myCanvasName4\",\"The Canvas Title\",800,600)\n",
        "#This string (below) is the total momentum of the H1 particle\n",
        "tree.Draw(p_tot()+\">>histogram1(100,0,300000)\")\n",
        "#tree.Draw(\"sqrt((H1_PX**2)+(H1_PY**2)+(H1_PZ**2))+>>histogram1,100\")\n",
        "histogram1 = ROOT.gDirectory.Get(\"histogram1\")\n",
        "#histogram1.Draw()\n",
        "#Show me the canvas\n",
        "c.Draw()"
      ],
      "execution_count": 188,
      "outputs": [
        {
          "output_type": "stream",
          "text": [
            "Warning in <TCanvas::Constructor>: Deleting canvas with same name: myCanvasName4\n"
          ],
          "name": "stderr"
        },
        {
          "output_type": "display_data",
          "data": {
            "image/png": "[encoded data removed]",
            "text/plain": [
              "<IPython.core.display.Image object>"
            ]
          },
          "metadata": {
            "tags": []
          }
        }
      ]
    },
    {
      "cell_type": "markdown",
      "metadata": {
        "id": "Ks2lbi-Cie9r",
        "colab_type": "text"
      },
      "source": [
        "Having found our momentum and energy, we can use these quantities to find our experimental mass (not the theoretical mass as we used earlier for the Kaon calculations).\n",
        "\n",
        "When we calculate this, we will get a distribution of masses. This is due to errors in the measurements made either by the detector, or in the experiment itself. We hope to have a reasonably narrow peak to work with, but, sometimes this is not possible."
      ]
    },
    {
      "cell_type": "code",
      "metadata": {
        "id": "cAQuG5bziiIr",
        "colab_type": "code",
        "outputId": "95c6e158-2cbc-418b-9f43-0735798e6461",
        "colab": {
          "base_uri": "https://localhost:8080/",
          "height": 54
        }
      },
      "source": [
        "#Use the energy of the B meson and momentum of the B meson as inputs and\n",
        "#calculate the mass of the B meson (Found by analysis of the daughter products)\n",
        "def m_tot():\n",
        "  return \"sqrt((\"+E_tot()+\")**2 - (\"+p_tot()+\")**2)\"\n",
        "\n",
        "m_tot()  "
      ],
      "execution_count": 189,
      "outputs": [
        {
          "output_type": "execute_result",
          "data": {
            "text/plain": [
              "'sqrt((sqrt(((H1_PX)**2+(H1_PY)**2+(H1_PZ)**2) + (493.677**2))+sqrt(((H2_PX)**2+(H2_PY)**2+(H2_PZ)**2) + (493.677**2))+sqrt(((H3_PX)**2+(H3_PY)**2+(H3_PZ)**2) + (493.677**2)))**2 - (sqrt(((H1_PX + H2_PX + H3_PX)**2) + ((H1_PY + H2_PY + H3_PY)**2) + ((H1_PZ + H2_PZ + H3_PZ)**2)))**2)'"
            ]
          },
          "metadata": {
            "tags": []
          },
          "execution_count": 189
        }
      ]
    },
    {
      "cell_type": "code",
      "metadata": {
        "id": "Nw4TVr9ArZGN",
        "colab_type": "code",
        "outputId": "ba17f9bc-ee84-47cd-f938-336f9101c874",
        "colab": {
          "base_uri": "https://localhost:8080/",
          "height": 589
        }
      },
      "source": [
        "#Now plot a histogram of the range of masses of the B meson.\n",
        "#Does this match what we would expect from theory?\n",
        "\n",
        "#Then we open the ROOT file using the TFile command.\n",
        "f = ROOT.TFile.Open(\"DATA/B2HHH_MagnetUp.root\", \"READONLY\")\n",
        "#From our file, we have to extract the DecayTree \n",
        "tree=f.Get(\"DecayTree\")\n",
        "# Now we create a canvas, plot our data onto the canvas and draw it:\n",
        "\n",
        "c = ROOT.TCanvas(\"myCanvasName5\",\"The Canvas Title\",800,600)\n",
        "#This string (below) is the total momentum of the H1 particle\n",
        "tree.Draw(m_tot()+\">>histogram1(100,0,10000)\")\n",
        "#tree.Draw(\"sqrt((H1_PX**2)+(H1_PY**2)+(H1_PZ**2))+>>histogram1,100\")\n",
        "histogram1 = ROOT.gDirectory.Get(\"histogram1\")\n",
        "#histogram1.Draw()\n",
        "#Show me the canvas\n",
        "c.Draw()\n"
      ],
      "execution_count": 190,
      "outputs": [
        {
          "output_type": "display_data",
          "data": {
            "image/png": "[encoded data removed]",
            "text/plain": [
              "<IPython.core.display.Image object>"
            ]
          },
          "metadata": {
            "tags": []
          }
        }
      ]
    },
    {
      "cell_type": "markdown",
      "metadata": {
        "id": "_HXEUtByt70D",
        "colab_type": "text"
      },
      "source": [
        "We know that some of our particles are the B+ and some are the B- particle. There will also be some particles in our system that are not coming from a genuine B+/- or are a B+/- but are not constructed from Kaons.\n",
        "\n",
        "We have some tools available to help:-\n",
        "\n",
        "During detection, software attributes the probability of a particle being a Kaon or a Pion (in the H1_ProbK or H1_ProbPi variable)\n",
        "The detector also knows if the particle was a Muon - since it has detectors specifically for these. So it can attribute a 0 or a 1 to this probability\n",
        "The reconstructed vertex has a some kind of quality associated with it (we call this the Vertex $\\chi^2$ (this is the variable B_VertexChi2). This is the statistical measure that determines how well we found a single point to be the source of all three particles.\n",
        "In order to get a better result, we should select our data to have the properties we desire and make some rules (often called a selection) to cut away data we don't want to include for various reasons. e.g. we know we don't have any muons in our decay - so any time H1/H2/H3 are a muon they should be excluded. The other variables are not so clear - so we can plot them to make a decision."
      ]
    },
    {
      "cell_type": "code",
      "metadata": {
        "id": "mXkHEDk8vLyK",
        "colab_type": "code",
        "outputId": "871b6eb4-e2b5-4dfe-e6b6-c5ea7c614fba",
        "colab": {
          "base_uri": "https://localhost:8080/",
          "height": 589
        }
      },
      "source": [
        "#Make plots of H1/H2/H3 _ProbK on one plot\n",
        "\n",
        "#Then we open the ROOT file using the TFile command.\n",
        "f = ROOT.TFile.Open(\"DATA/B2HHH_MagnetUp.root\", \"READONLY\")\n",
        "#From our file, we have to extract the DecayTree \n",
        "tree=f.Get(\"DecayTree\")\n",
        "# Now we create a canvas, plot our data onto the canvas and draw it:\n",
        "\n",
        "c = ROOT.TCanvas(\"myCanvasName6\",\"The Canvas Title\",800,600)\n",
        "#This string (below) is the total momentum of the H1 particle\n",
        "tree.Draw(\"H1_ProbK\"+\">>histogram1(100,0,1)\")\n",
        "tree.Draw(\"H2_ProbK\"+\">>histogram2(100,0,1)\")\n",
        "tree.Draw(\"H3_ProbK\"+\">>histogram3(100,0,1)\")\n",
        "#tree.Draw(\"sqrt((H1_PX**2)+(H1_PY**2)+(H1_PZ**2))+>>histogram1,100\")\n",
        "histogram1 = ROOT.gDirectory.Get(\"histogram1\")\n",
        "histogram2 = ROOT.gDirectory.Get(\"histogram2\")\n",
        "histogram3 = ROOT.gDirectory.Get(\"histogram3\")\n",
        "histogram1.SetLineColor(1)\n",
        "histogram2.SetLineColor(2)\n",
        "histogram3.SetLineColor(3)\n",
        "histogram1.Draw()\n",
        "histogram2.Draw(\"Same\")\n",
        "histogram3.Draw(\"Same\")\n",
        "#Show me the canvas\n",
        "c.Draw()"
      ],
      "execution_count": 191,
      "outputs": [
        {
          "output_type": "display_data",
          "data": {
            "image/png": "[encoded data removed]",
            "text/plain": [
              "<IPython.core.display.Image object>"
            ]
          },
          "metadata": {
            "tags": []
          }
        }
      ]
    },
    {
      "cell_type": "code",
      "metadata": {
        "id": "y-ow-b0-4r_N",
        "colab_type": "code",
        "outputId": "12a1cf65-2174-473c-b40e-a9319fba8a58",
        "colab": {
          "base_uri": "https://localhost:8080/",
          "height": 589
        }
      },
      "source": [
        "#Then we open the ROOT file using the TFile command.\n",
        "f = ROOT.TFile.Open(\"DATA/B2HHH_MagnetUp.root\", \"READONLY\")\n",
        "#From our file, we have to extract the DecayTree \n",
        "tree=f.Get(\"DecayTree\")\n",
        "# Now we create a canvas, plot our data onto the canvas and draw it:\n",
        "\n",
        "c = ROOT.TCanvas(\"myCanvasName7\",\"The Canvas Title\",800,600)\n",
        "#This string (below) is the total momentum of the H1 particle\n",
        "tree.Draw(\"H1_ProbPi\"+\">>histogram1(100,0,1)\")\n",
        "tree.Draw(\"H2_ProbPi\"+\">>histogram2(100,0,1)\")\n",
        "tree.Draw(\"H3_ProbPi\"+\">>histogram3(100,0,1)\")\n",
        "#tree.Draw(\"sqrt((H1_PX**2)+(H1_PY**2)+(H1_PZ**2))+>>histogram1,100\")\n",
        "histogram1 = ROOT.gDirectory.Get(\"histogram1\")\n",
        "histogram2 = ROOT.gDirectory.Get(\"histogram2\")\n",
        "histogram3 = ROOT.gDirectory.Get(\"histogram3\")\n",
        "histogram1.SetLineColor(1)\n",
        "histogram2.SetLineColor(2)\n",
        "histogram3.SetLineColor(3)\n",
        "histogram1.Draw()\n",
        "histogram2.Draw(\"Same\")\n",
        "histogram3.Draw(\"Same\")\n",
        "histogram1.SetTitle(\"Probabil\")\n",
        "#Show me the canvas\n",
        "c.Draw()"
      ],
      "execution_count": 192,
      "outputs": [
        {
          "output_type": "display_data",
          "data": {
            "image/png": "[encoded data removed]",
            "text/plain": [
              "<IPython.core.display.Image object>"
            ]
          },
          "metadata": {
            "tags": []
          }
        }
      ]
    },
    {
      "cell_type": "code",
      "metadata": {
        "id": "o4CVATPl0PSo",
        "colab_type": "code",
        "outputId": "f1113561-c21a-42a5-83b1-43b02c95a2b9",
        "colab": {
          "base_uri": "https://localhost:8080/",
          "height": 589
        }
      },
      "source": [
        "#For all our particles, make a plot of the B_VertexChi2\n",
        "\n",
        "#Then we open the ROOT file using the TFile command.\n",
        "f = ROOT.TFile.Open(\"DATA/B2HHH_MagnetUp.root\", \"READONLY\")\n",
        "#From our file, we have to extract the DecayTree \n",
        "tree=f.Get(\"DecayTree\")\n",
        "# Now we create a canvas, plot our data onto the canvas and draw it:\n",
        "\n",
        "c = ROOT.TCanvas(\"myCanvasName8\",\"The Canvas Title\",800,600)\n",
        "#This string (below) is the total momentum of the H1 particle\n",
        "tree.Draw(\"B_VertexChi2\"+\">>histogram1(100,0,15)\")\n",
        "#tree.Draw(\"sqrt((H1_PX**2)+(H1_PY**2)+(H1_PZ**2))+>>histogram1,100\")\n",
        "histogram1 = ROOT.gDirectory.Get(\"histogram1\")\n",
        "#histogram1.Draw()\n",
        "#Show me the canvas\n",
        "c.Draw()"
      ],
      "execution_count": 193,
      "outputs": [
        {
          "output_type": "display_data",
          "data": {
            "image/png": "[encoded data removed]",
            "text/plain": [
              "<IPython.core.display.Image object>"
            ]
          },
          "metadata": {
            "tags": []
          }
        }
      ]
    },
    {
      "cell_type": "markdown",
      "metadata": {
        "id": "q0VbJbX_2Iw8",
        "colab_type": "text"
      },
      "source": [
        "Using these plots, we can now make a preselection string. This is a text string that looks like"
      ]
    },
    {
      "cell_type": "code",
      "metadata": {
        "id": "Fpo4Rbb_2KHn",
        "colab_type": "code",
        "colab": {}
      },
      "source": [
        "#This example is for each daughter particle to have a Probability of being a Pion being more than 90% and H1 to not be a muon\n",
        "#This is not a good choice of selection - you should make your own :)\n",
        "selection=(\"H1_ProbK>0.9&H2_ProbK>0.9&H3_ProbK>0.9&!H1_isMuon\")"
      ],
      "execution_count": 0,
      "outputs": []
    },
    {
      "cell_type": "code",
      "metadata": {
        "id": "SImWH10D5LaS",
        "colab_type": "code",
        "colab": {}
      },
      "source": [
        "#To apply the selection - we can use the copytree command:\n",
        "\n",
        "CutTree=tree.CopyTree(selection)\n",
        "\n",
        "#So now we take our data in tree and apply selection to it (so only events which comply with those rules are kept) and put the new data in CutTree"
      ],
      "execution_count": 0,
      "outputs": []
    },
    {
      "cell_type": "code",
      "metadata": {
        "id": "M9ptKbNy6d3R",
        "colab_type": "code",
        "outputId": "de3fced6-775d-4a93-a0e9-f48c6691beb4",
        "colab": {
          "base_uri": "https://localhost:8080/",
          "height": 589
        }
      },
      "source": [
        "#Now as a good check, we should see the effect of applying our cuts.\n",
        "#On one histogram, plot the B meson mass, from both the tree (pre-cuts) and the CutTree (post-cuts)\n",
        "#What do you notice about your histogram now?\n",
        "\n",
        "#Then we open the ROOT file using the TFile command.\n",
        "f = ROOT.TFile.Open(\"DATA/B2HHH_MagnetUp.root\", \"READONLY\")\n",
        "#From our file, we have to extract the DecayTree \n",
        "tree=f.Get(\"DecayTree\")\n",
        "CutTree=tree.CopyTree(selection)\n",
        "# Now we create a canvas, plot our data onto the canvas and draw it:\n",
        "\n",
        "c = ROOT.TCanvas(\"myCanvasName9\",\"The Canvas Title\",800,600)\n",
        "#This string (below) is the total momentum of the H1 particle\n",
        "tree.Draw(m_tot()+\">>histogram1(100,0,10000)\")\n",
        "CutTree.Draw(m_tot()+\">>histogram2(100,0,10000)\")\n",
        "#tree.Draw(\"sqrt((H1_PX**2)+(H1_PY**2)+(H1_PZ**2))+>>histogram1,100\")\n",
        "\n",
        "histogram2 = ROOT.gDirectory.Get(\"histogram2\")\n",
        "\n",
        "histogram2.SetLineColor(2)\n",
        "histogram2.Draw()\n",
        "#Show me the canvas\n",
        "c.Draw()\n"
      ],
      "execution_count": 196,
      "outputs": [
        {
          "output_type": "display_data",
          "data": {
            "image/png": "[encoded data removed]",
            "text/plain": [
              "<IPython.core.display.Image object>"
            ]
          },
          "metadata": {
            "tags": []
          }
        }
      ]
    },
    {
      "cell_type": "markdown",
      "metadata": {
        "id": "0HO604A28ZF1",
        "colab_type": "text"
      },
      "source": [
        "#How do we count the number of events?\n",
        "\n",
        "We now have a histogram of events that we have reconstructed as a B meson. But some of these events are caused by a co-incidence of events which would still occur if there were no B mesons actually produced. We call this the background. Background and signal are indistinguishable now as the detector cannot tell the difference and our cuts were unable to remove the events for physics reasons. We can do some statistical analysis, if we know the approximate shapes of our signal and our background. Just like a least-squares fitting we can run a fit routine to minimise the error between the fitted curve and our data. As an example, if we know our data has an exponential background and a gaussian signal:\n",
        "\n",
        "![alt text](https://drive.google.com/uc?id=1hgSug261VpvvnYrnVRAsTvqpNJEJUOVH)\n",
        "\n",
        "Here the red line represents our signal, the blue dotted line is our background and the solid blue line is our combined curve. The graph also shows the number of signal events and the number of background events. The signal now is a tiny fraction of the total data shown in the plot.\n",
        "\n",
        "In order to do this, we need to build a fit model, around which the software can try to fit our data.\n",
        "\n",
        "We use RooFit for this, which includes:\n",
        "\n",
        "Gaussian\n",
        "\n",
        "Exponential\n",
        "\n",
        "Chebychev\n",
        "\n",
        "Crystal Ball\n",
        "\n",
        "Breit-Wigner\n",
        "\n",
        "As well as several other choices.\n",
        "\n",
        "Typically exponential and Chebychev functions are used for background and Gaussian, Crystal Ball and Breit-Wigner are used for signal. We can also combine them (e.g. 1 crystal ball, 1 gaussian, 1 exponential) in various ways."
      ]
    },
    {
      "cell_type": "code",
      "metadata": {
        "id": "9dB-mt1NOS60",
        "colab_type": "code",
        "colab": {}
      },
      "source": [
        "ctypes.cdll.LoadLibrary('/content/APPS/root/lib/libMathMore.so')\n",
        "\n",
        "#First we define our physical measurement we want to fit using the RooRealVar\n",
        "# variable=ROOT.RooRealVar =(\"Variable from Python\", \"Nickname\",Min, Max, Units)\n",
        "mass= ROOT.RooRealVar(\"B_Mass\", \"Mass\", 5200, 5300, \"MeV/C^{2}\")\n",
        "\n",
        "#The remainder of the variables we need to pass into our model. E.g. for a gaussian, we need a mean and a width parameter to vary\n",
        "#For these RooRealVar's we add three numbers, a \"starting value\" and min/max values\n",
        "\n",
        "gauss_mean=ROOT.RooRealVar(\"gauss_mean\",\"Mean\",5270,5220,5300)\n",
        "gauss_width=ROOT.RooRealVar(\"gauss_width\",\"Width\",3,0,60)\n",
        "\n",
        "#Now we have enough to make our Model for the signal:\n",
        "\n",
        "Gauss=ROOT.RooGaussian(\"Gaussian Signal\",\"Gauss\",mass,gauss_mean,gauss_width)\n",
        "\n",
        "#We also need a background, so let's use a (simple) exponential:\n",
        "\n",
        "exponent=ROOT.RooRealVar(\"exponent\", \"C\", -0.02, -2, +2)\n",
        "\n",
        "#Define the  model for the background:\n",
        "\n",
        "Bkgnd=ROOT.RooExponential(\"Exponential Background\",\"Bkgnd\",mass,exponent)\n",
        "\n",
        "#Now we need to combine these two functions into a single PDF (probability density function)\n",
        "#and we need to add a scaling factor to fit what ratio of the two are used:\n",
        "\n",
        "sig_frac=ROOT.RooRealVar(\"Signal Fraction\",\"sigfrac\", 0.5, 0, 1)\n",
        "\n",
        "model=ROOT.RooAddPdf(\"Full Model\",\"model\",ROOT.RooArgList(Gauss,Bkgnd),ROOT.RooArgList(sig_frac))"
      ],
      "execution_count": 0,
      "outputs": []
    },
    {
      "cell_type": "code",
      "metadata": {
        "id": "HeP5Akb-PQMG",
        "colab_type": "code",
        "outputId": "c7562e53-eef4-4bfd-bc23-c090992c1b6a",
        "colab": {
          "base_uri": "https://localhost:8080/",
          "height": 1000
        }
      },
      "source": [
        "#Put our data set into a RooDataSet structure\n",
        "\n",
        "f = ROOT.TFile.Open(\"DATA/B2HHH_MagnetUp.root\", \"READONLY\")\n",
        "#From our file, we have to extract the DecayTree \n",
        "tree=f.Get(\"DecayTree\")\n",
        "CutTree=tree.CopyTree(selection)\n",
        "#We define a 1 dimensional histogram, with 100 bins which ranges from -4 to +4\n",
        "h = ROOT.TH1F(\"gauss\",\"Example histogram\",100,5000,6000)\n",
        "\n",
        "data_to_fit = ROOT.RooDataHist(\"Name\",\"Title\",ROOT.RooArgList(sig_frac), h) \n",
        "\n",
        "CutTree.Draw(\"B_Mass\"+\">>h(200,5000,6000)\")\n",
        "\n",
        "model.fitTo(data_to_fit)\n",
        "\n",
        "#if everything went well, you will see the outputs of RooFit below"
      ],
      "execution_count": 198,
      "outputs": [
        {
          "output_type": "execute_result",
          "data": {
            "text/plain": [
              "<ROOT.RooFitResult object at 0x(nil)>"
            ]
          },
          "metadata": {
            "tags": []
          },
          "execution_count": 198
        },
        {
          "output_type": "stream",
          "text": [
            "[#1] INFO:DataHandling -- RooDataHist::adjustBinning(Name): fit range of variable Signal Fraction expanded to nearest bin boundaries: [0,1] --> [5000,5010]\n",
            "[#1] INFO:Minization -- RooMinimizer::optimizeConst: activating const optimization\n",
            " **********\n",
            " **    1 **SET PRINT           1\n",
            " **********\n",
            " **********\n",
            " **    2 **SET NOGRAD\n",
            " **********\n",
            " PARAMETER DEFINITIONS:\n",
            "    NO.   NAME         VALUE      STEP SIZE      LIMITS\n",
            "     1 B_Mass       5.25000e+03  1.00000e+01    5.20000e+03  5.30000e+03\n",
            "     2 exponent    -2.00000e-02  4.00000e-01   -2.00000e+00  2.00000e+00\n",
            "     3 gauss_mean   5.27000e+03  8.00000e+00    5.22000e+03  5.30000e+03\n",
            "     4 gauss_width   3.00000e+00  1.50000e+00    0.00000e+00  6.00000e+01\n",
            " **********\n",
            " **    3 **SET ERR         0.5\n",
            " **********\n",
            " **********\n",
            " **    4 **SET PRINT           1\n",
            " **********\n",
            " **********\n",
            " **    5 **SET STR           1\n",
            " **********\n",
            " NOW USING STRATEGY  1: TRY TO BALANCE SPEED AGAINST RELIABILITY\n",
            " **********\n",
            " **    6 **MIGRAD        2000           1\n",
            " **********\n",
            " FIRST CALL TO USER FUNCTION AT NEW START POINT, WITH IFLAG=4.\n",
            " START MIGRAD MINIMIZATION.  STRATEGY  1.  CONVERGENCE WHEN EDM .LT. 1.00e-03\n",
            " FCN=0 FROM MIGRAD    STATUS=INITIATE      149 CALLS         150 TOTAL\n",
            "                     EDM= unknown      STRATEGY= 1      NO ERROR MATRIX       \n",
            "  EXT PARAMETER               CURRENT GUESS       STEP         FIRST   \n",
            "  NO.   NAME      VALUE            ERROR          SIZE      DERIVATIVE \n",
            "   1  B_Mass       5.25000e+03   1.00000e+01   0.00000e+00   0.00000e+00\n",
            "   2  exponent    -2.00000e-02   4.00000e-01   0.00000e+00   0.00000e+00\n",
            "   3  gauss_mean   5.27000e+03   8.00000e+00   0.00000e+00   0.00000e+00\n",
            "   4  gauss_width   3.00000e+00   1.50000e+00   0.00000e+00   0.00000e+00\n",
            "                               ERR DEF= 0.5\n",
            " MIGRAD MINIMIZATION HAS CONVERGED.\n",
            " MIGRAD WILL VERIFY CONVERGENCE AND ERROR MATRIX.\n",
            " MINUIT WARNING IN HESSE\n",
            " ============== Second derivative zero for parameter1\n",
            "  MNHESS FAILS AND WILL RETURN DIAGONAL MATRIX. \n",
            " FCN=0 FROM HESSE     STATUS=FAILED          3 CALLS         153 TOTAL\n",
            "                     EDM=0    STRATEGY= 1  ERROR MATRIX UNCERTAINTY 100.0 per cent\n",
            "  EXT PARAMETER                APPROXIMATE        STEP         FIRST   \n",
            "  NO.   NAME      VALUE            ERROR          SIZE      DERIVATIVE \n",
            "   1  B_Mass       5.25000e+03   4.20735e+01   0.00000e+00   0.00000e+00\n",
            "   2  exponent    -2.00000e-02   1.68286e+00   0.00000e+00   0.00000e+00\n",
            "   3  gauss_mean   5.27000e+03   3.25900e+01   0.00000e+00   0.00000e+00\n",
            "   4  gauss_width   3.00000e+00   1.24118e+01   0.00000e+00   0.00000e+00\n",
            "                               ERR DEF= 0.5\n",
            " MIGRAD MINIMIZATION HAS CONVERGED.\n",
            " MIGRAD WILL VERIFY CONVERGENCE AND ERROR MATRIX.\n",
            " MINUIT WARNING IN HESSE\n",
            " ============== Second derivative zero for parameter1\n",
            "  MNHESS FAILS AND WILL RETURN DIAGONAL MATRIX. \n",
            " FCN=0 FROM MIGRAD    STATUS=CONVERGED     155 CALLS         156 TOTAL\n",
            "                     EDM=0    STRATEGY= 1  ERROR MATRIX UNCERTAINTY 100.0 per cent\n",
            "  EXT PARAMETER                APPROXIMATE        STEP         FIRST   \n",
            "  NO.   NAME      VALUE            ERROR          SIZE      DERIVATIVE \n",
            "   1  B_Mass       5.25000e+03   4.20735e+01   0.00000e+00   0.00000e+00\n",
            "   2  exponent    -2.00000e-02   1.68286e+00   0.00000e+00   0.00000e+00\n",
            "   3  gauss_mean   5.27000e+03   3.25900e+01   0.00000e+00   0.00000e+00\n",
            "   4  gauss_width   3.00000e+00   1.24118e+01   0.00000e+00   0.00000e+00\n",
            "                               ERR DEF= 0.5\n",
            " EXTERNAL ERROR MATRIX.    NDIM=  25    NPAR=  4    ERR DEF=0.5\n",
            "  2.500e+03  0.000e+00  0.000e+00  0.000e+00 \n",
            "  0.000e+00  4.000e+00  0.000e+00  0.000e+00 \n",
            "  0.000e+00  0.000e+00  1.500e+03  0.000e+00 \n",
            "  0.000e+00  0.000e+00  0.000e+00  1.710e+02 \n",
            "ERR MATRIX APPROXIMATE\n",
            " PARAMETER  CORRELATION COEFFICIENTS  \n",
            "       NO.  GLOBAL      1      2      3      4\n",
            "        1  0.00000   1.000  0.000  0.000  0.000\n",
            "        2  0.00000   0.000  1.000  0.000  0.000\n",
            "        3  0.00000   0.000  0.000  1.000  0.000\n",
            "        4  0.00000   0.000  0.000  0.000  1.000\n",
            " ERR MATRIX APPROXIMATE\n",
            " **********\n",
            " **    7 **HESSE        2000\n",
            " **********\n",
            " MINUIT WARNING IN HESSE\n",
            " ============== Second derivative zero for parameter1\n",
            "  MNHESS FAILS AND WILL RETURN DIAGONAL MATRIX. \n",
            " FCN=0 FROM HESSE     STATUS=FAILED          3 CALLS         159 TOTAL\n",
            "                     EDM=0    STRATEGY= 1  ERROR MATRIX UNCERTAINTY 100.0 per cent\n",
            "  EXT PARAMETER                APPROXIMATE     INTERNAL      INTERNAL  \n",
            "  NO.   NAME      VALUE            ERROR       STEP SIZE       VALUE   \n",
            "   1  B_Mass       5.22603e+03   4.20735e+01   0.00000e+00   0.00000e+00\n",
            "   2  exponent    -2.00000e-02   1.68286e+00   0.00000e+00  -1.00002e-02\n",
            "   3  gauss_mean   5.27000e+03   3.25900e+01   0.00000e+00   2.52680e-01\n",
            "   4  gauss_width   3.00000e+00   1.24118e+01   0.00000e+00  -1.11977e+00\n",
            "                               ERR DEF= 0.5\n",
            " EXTERNAL ERROR MATRIX.    NDIM=  25    NPAR=  4    ERR DEF=0.5\n",
            "  2.500e+03  0.000e+00  0.000e+00  0.000e+00 \n",
            "  0.000e+00  4.000e+00  0.000e+00  0.000e+00 \n",
            "  0.000e+00  0.000e+00  1.500e+03  0.000e+00 \n",
            "  0.000e+00  0.000e+00  0.000e+00  1.710e+02 \n",
            "ERR MATRIX APPROXIMATE\n",
            " PARAMETER  CORRELATION COEFFICIENTS  \n",
            "       NO.  GLOBAL      1      2      3      4\n",
            "        1  0.00000   1.000  0.000  0.000  0.000\n",
            "        2  0.00000   0.000  1.000  0.000  0.000\n",
            "        3  0.00000   0.000  0.000  1.000  0.000\n",
            "        4  0.00000   0.000  0.000  0.000  1.000\n",
            " ERR MATRIX APPROXIMATE\n",
            " **********\n",
            " **    8 **SET ERR         0.5\n",
            " **********\n",
            " **********\n",
            " **    9 **SET PRINT           1\n",
            " **********\n",
            " **********\n",
            " **   10 **HESSE        2000\n",
            " **********\n",
            " MINUIT WARNING IN HESSE\n",
            " ============== Second derivative zero for parameter1\n",
            "  MNHESS FAILS AND WILL RETURN DIAGONAL MATRIX. \n",
            " FCN=0 FROM HESSE     STATUS=FAILED          3 CALLS         162 TOTAL\n",
            "                     EDM=0    STRATEGY= 1  ERROR MATRIX UNCERTAINTY 100.0 per cent\n",
            "  EXT PARAMETER                APPROXIMATE     INTERNAL      INTERNAL  \n",
            "  NO.   NAME      VALUE            ERROR       STEP SIZE       VALUE   \n",
            "   1  B_Mass       5.22603e+03   4.20735e+01   0.00000e+00   0.00000e+00\n",
            "   2  exponent    -2.00000e-02   1.68286e+00   0.00000e+00  -1.00002e-02\n",
            "   3  gauss_mean   5.27000e+03   3.25900e+01   0.00000e+00   2.52680e-01\n",
            "   4  gauss_width   3.00000e+00   1.24118e+01   0.00000e+00  -1.11977e+00\n",
            "                               ERR DEF= 0.5\n",
            " EXTERNAL ERROR MATRIX.    NDIM=  25    NPAR=  4    ERR DEF=0.5\n",
            "  2.500e+03  0.000e+00  0.000e+00  0.000e+00 \n",
            "  0.000e+00  4.000e+00  0.000e+00  0.000e+00 \n",
            "  0.000e+00  0.000e+00  1.500e+03  0.000e+00 \n",
            "  0.000e+00  0.000e+00  0.000e+00  1.710e+02 \n",
            "ERR MATRIX APPROXIMATE\n",
            " PARAMETER  CORRELATION COEFFICIENTS  \n",
            "       NO.  GLOBAL      1      2      3      4\n",
            "        1  0.00000   1.000  0.000  0.000  0.000\n",
            "        2  0.00000   0.000  1.000  0.000  0.000\n",
            "        3  0.00000   0.000  0.000  1.000  0.000\n",
            "        4  0.00000   0.000  0.000  0.000  1.000\n",
            " ERR MATRIX APPROXIMATE\n",
            "[#1] INFO:Minization -- RooMinimizer::optimizeConst: deactivating const optimization\n",
            "[#0] WARNING:Eval -- RooAddPdf::updateCoefCache(Full Model WARNING: sum of PDF coefficients not in range [0-1], value=5005[#0] WARNING:Eval -- \n"
          ],
          "name": "stdout"
        },
        {
          "output_type": "stream",
          "text": [
            "Error in <TTreeFormula::Compile>:  Bad numerical expression : \"B_Mass\"\n",
            "Info in <TSelectorDraw::AbortProcess>: Variable compilation failed: {B_Mass,}\n"
          ],
          "name": "stderr"
        }
      ]
    },
    {
      "cell_type": "code",
      "metadata": {
        "id": "b25exg6oPV2d",
        "colab_type": "code",
        "outputId": "50dcecae-a095-4b41-a20d-cc26f5c1f6a3",
        "colab": {
          "base_uri": "https://localhost:8080/",
          "height": 576
        }
      },
      "source": [
        "#Now to plot it all\n",
        "c1=ROOT.TCanvas(\"c1\",\"c1\")\n",
        "frame=mass.frame()\n",
        "data_to_fit.plotOn(frame)\n",
        "model.plotOn(frame)\n",
        "frame.Draw()\n",
        "c1.Update()\n",
        "c1.Draw()"
      ],
      "execution_count": 199,
      "outputs": [
        {
          "output_type": "stream",
          "text": [
            "[#0] ERROR:InputArguments -- RooDataHist::Name:plotOn: dataset doesn't contain plot frame variable\n",
            "[#0] WARNING:Plotting -- At observable [x]=5200 RooAddPdf::Full Model[ Signal Fraction * Gaussian Signal + [%] * Exponential Background ]\n",
            "     p.d.f value is less than zero (-0.000000), forcing value to zero @ !refCoefNorm=(), !pdfs=(Gaussian Signal = 2.23966e-47/1,Exponential Background = 4.04847e-46/1), !coefficients=(Signal Fraction = 5005)\n"
          ],
          "name": "stdout"
        },
        {
          "output_type": "stream",
          "text": [
            "Warning in <TCanvas::Constructor>: Deleting canvas with same name: c1\n"
          ],
          "name": "stderr"
        },
        {
          "output_type": "display_data",
          "data": {
            "image/png": "[encoded data removed]",
            "text/plain": [
              "<IPython.core.display.Image object>"
            ]
          },
          "metadata": {
            "tags": []
          }
        }
      ]
    },
    {
      "cell_type": "markdown",
      "metadata": {
        "id": "lHvDhmhqPnbb",
        "colab_type": "text"
      },
      "source": [
        "Using this structure, you can in theory build whatever models you like!\n",
        "\n",
        "Some recommendations (but not necessary to do all):-\n",
        "\n",
        "Gauss+Exponential (as above)\n",
        "Crystal Ball + Exponential\n",
        "Gauss+Crystal Ball+Exponential (now you need to weigh the two signal peaks and then the total signal against total background)\n",
        "Gauss+Chebychev\n",
        "Two Crystal Balls + Exponential"
      ]
    },
    {
      "cell_type": "code",
      "metadata": {
        "id": "lmfVNcktPvN5",
        "colab_type": "code",
        "outputId": "4853fd55-f471-4758-ee81-d1bac3d73564",
        "colab": {
          "base_uri": "https://localhost:8080/",
          "height": 1000
        }
      },
      "source": [
        "#First we define our physical measurement we want to fit using the RooRealVar\n",
        "# variable=ROOT.RooRealVar =(\"Variable from Python\", \"Nickname\",Min, Max, Units)\n",
        "mass= ROOT.RooRealVar(\"B_Mass\", \"Mass\", 5200, 5300, \"MeV/C^{2}\")\n",
        "\n",
        "#The remainder of the variables we need to pass into our model. E.g. for a gaussian, we need a mean and a width parameter to vary\n",
        "#For these RooRealVar's we add three numbers, a \"starting value\" and min/max values\n",
        "\n",
        "gauss_mean=ROOT.RooRealVar(\"gauss_mean\",\"Mean\",5270,5220,5300)\n",
        "gauss_width=ROOT.RooRealVar(\"gauss_width\",\"Width\",3,0,60)\n",
        "\n",
        "#Now we have enough to make our Model for the signal:\n",
        "\n",
        "Gauss=ROOT.RooGaussian(\"Gaussian Signal\",\"Gauss\",mass,gauss_mean,gauss_width)\n",
        "\n",
        "#We also need a background, so let's use a (simple) exponential:\n",
        "\n",
        "exponent=ROOT.RooRealVar(\"exponent\", \"C\", -0.02, -2, +2)\n",
        "\n",
        "#Define the  model for the background:\n",
        "\n",
        "Bkgnd=ROOT.RooExponential(\"Exponential Background\",\"Bkgnd\",mass,exponent)\n",
        "\n",
        "#Now we need to combine these two functions into a single PDF (probability density function)\n",
        "#and we need to add a scaling factor to fit what ratio of the two are used:\n",
        "\n",
        "cb_width = ROOT.RooRealVar(\"cb_width\",\"CB Width\",17,8,50)\n",
        "cb_alpha = ROOT.RooRealVar(\"cb_alpha\",\"Exp.const\",1.0,0.0,5.0)\n",
        "cb_n = ROOT.RooRealVar(\"cb_n\",\"Exp.crossover\",1.0,0.0,15.0)\n",
        "# these are all the parameters required by a crystal ball shape\n",
        "myCB = ROOT.RooCBShape(\"myCB\",\"Crystal Ball\", mass, gauss_mean, cb_width, cb_alpha, cb_n)\n",
        "\n",
        "sig_frac=ROOT.RooRealVar(\"Signal Fraction\",\"sigfrac\", 0.5, 0, 1)\n",
        "\n",
        "model=ROOT.RooAddPdf(\"Full Model\",\"model\",ROOT.RooArgList(myCB,Bkgnd,Gauss,myCB,myCB,Bkgnd),ROOT.RooArgList(sig_frac))\n",
        "\n",
        "#Put our data set into a RooDataSet structure\n",
        "\n",
        "f = ROOT.TFile.Open(\"DATA/B2HHH_MagnetUp.root\", \"READONLY\")\n",
        "#From our file, we have to extract the DecayTree \n",
        "tree=f.Get(\"DecayTree\")\n",
        "CutTree=tree.CopyTree(selection)\n",
        "#We define a 1 dimensional histogram, with 100 bins which ranges from -4 to +4\n",
        "h = ROOT.TH1F(\"gauss\",\"Example histogram\",100,5000,6000)\n",
        "\n",
        "data_to_fit = ROOT.RooDataHist(\"Name\",\"Title\",ROOT.RooArgList(sig_frac), h) \n",
        "\n",
        "CutTree.Draw(\"B_Mass\"+\">>h(200,5000,6000)\")\n",
        "\n",
        "model.fitTo(data_to_fit)\n",
        "\n",
        "#if everything went well, you will see the outputs of RooFit below\n",
        "\n",
        "#Now to plot it all\n",
        "c1=ROOT.TCanvas(\"c1\",\"c1\")\n",
        "frame=mass.frame()\n",
        "data_to_fit.plotOn(frame)\n",
        "model.plotOn(frame)\n",
        "frame.Draw()\n",
        "c1.Update()\n",
        "c1.Draw()\n",
        "\n",
        "signal_yield1=Gauss.getValV()\n",
        "signal_yield2=Bkgnd.getValV()\n",
        "signal_yield3=myCB.getValV()\n",
        "\n",
        "signal_square1=Gauss.chiSquare()\n",
        "signal_square2=Bkgnd.chiSquare()\n",
        "signal_square3=myCB.chiSquare()\n"
      ],
      "execution_count": 200,
      "outputs": [
        {
          "output_type": "error",
          "ename": "AttributeError",
          "evalue": "ignored",
          "traceback": [
            "\u001b[0;31m\u001b[0m",
            "\u001b[0;31mAttributeError\u001b[0mTraceback (most recent call last)",
            "\u001b[0;32m<ipython-input-200-85d5ce8327d9>\u001b[0m in \u001b[0;36m<module>\u001b[0;34m()\u001b[0m\n\u001b[1;32m     62\u001b[0m \u001b[0msignal_yield3\u001b[0m\u001b[0;34m=\u001b[0m\u001b[0mmyCB\u001b[0m\u001b[0;34m.\u001b[0m\u001b[0mgetValV\u001b[0m\u001b[0;34m(\u001b[0m\u001b[0;34m)\u001b[0m\u001b[0;34m\u001b[0m\u001b[0m\n\u001b[1;32m     63\u001b[0m \u001b[0;34m\u001b[0m\u001b[0m\n\u001b[0;32m---> 64\u001b[0;31m \u001b[0msignal_square1\u001b[0m\u001b[0;34m=\u001b[0m\u001b[0mGauss\u001b[0m\u001b[0;34m.\u001b[0m\u001b[0mchiSquare\u001b[0m\u001b[0;34m(\u001b[0m\u001b[0;34m)\u001b[0m\u001b[0;34m\u001b[0m\u001b[0m\n\u001b[0m\u001b[1;32m     65\u001b[0m \u001b[0msignal_square2\u001b[0m\u001b[0;34m=\u001b[0m\u001b[0mBkgnd\u001b[0m\u001b[0;34m.\u001b[0m\u001b[0mchiSquare\u001b[0m\u001b[0;34m(\u001b[0m\u001b[0;34m)\u001b[0m\u001b[0;34m\u001b[0m\u001b[0m\n\u001b[1;32m     66\u001b[0m \u001b[0msignal_square3\u001b[0m\u001b[0;34m=\u001b[0m\u001b[0mmyCB\u001b[0m\u001b[0;34m.\u001b[0m\u001b[0mchiSquare\u001b[0m\u001b[0;34m(\u001b[0m\u001b[0;34m)\u001b[0m\u001b[0;34m\u001b[0m\u001b[0m\n",
            "\u001b[0;31mAttributeError\u001b[0m: 'RooGaussian' object has no attribute 'chiSquare'"
          ]
        },
        {
          "output_type": "stream",
          "text": [
            "[#0] ERROR:InputArguments -- RooAddPdf::RooAddPdf(Full Model) number of pdfs and coefficients inconsistent, must have Npdf=Ncoef or Npdf=Ncoef+1\n",
            "[#1] INFO:DataHandling -- RooDataHist::adjustBinning(Name): fit range of variable Signal Fraction expanded to nearest bin boundaries: [0,1] --> [5000,5010]\n",
            "[#1] INFO:Minization -- RooMinimizer::optimizeConst: activating const optimization\n",
            " **********\n",
            " **    1 **SET PRINT           1\n",
            " **********\n",
            " **********\n",
            " **    2 **SET NOGRAD\n",
            " **********\n",
            " PARAMETER DEFINITIONS:\n",
            "    NO.   NAME         VALUE      STEP SIZE      LIMITS\n",
            "     1 B_Mass       5.25000e+03  1.00000e+01    5.20000e+03  5.30000e+03\n",
            "     2 cb_alpha     1.00000e+00  5.00000e-01    0.00000e+00  5.00000e+00\n",
            "     3 cb_n         1.00000e+00  5.00000e-01    0.00000e+00  1.50000e+01\n",
            "     4 cb_width     1.70000e+01  4.20000e+00    8.00000e+00  5.00000e+01\n",
            "     5 exponent    -2.00000e-02  4.00000e-01   -2.00000e+00  2.00000e+00\n",
            "     6 gauss_mean   5.27000e+03  8.00000e+00    5.22000e+03  5.30000e+03\n",
            " **********\n",
            " **    3 **SET ERR         0.5\n",
            " **********\n",
            " **********\n",
            " **    4 **SET PRINT           1\n",
            " **********\n",
            " **********\n",
            " **    5 **SET STR           1\n",
            " **********\n",
            " NOW USING STRATEGY  1: TRY TO BALANCE SPEED AGAINST RELIABILITY\n",
            " **********\n",
            " **    6 **MIGRAD        3000           1\n",
            " **********\n",
            " FIRST CALL TO USER FUNCTION AT NEW START POINT, WITH IFLAG=4.\n",
            " START MIGRAD MINIMIZATION.  STRATEGY  1.  CONVERGENCE WHEN EDM .LT. 1.00e-03\n",
            " FCN=0 FROM MIGRAD    STATUS=INITIATE      277 CALLS         278 TOTAL\n",
            "                     EDM= unknown      STRATEGY= 1      NO ERROR MATRIX       \n",
            "  EXT PARAMETER               CURRENT GUESS       STEP         FIRST   \n",
            "  NO.   NAME      VALUE            ERROR          SIZE      DERIVATIVE \n",
            "   1  B_Mass       5.25000e+03   1.00000e+01   0.00000e+00   0.00000e+00\n",
            "   2  cb_alpha     1.00000e+00   5.00000e-01   0.00000e+00   0.00000e+00\n",
            "   3  cb_n         1.00000e+00   5.00000e-01   0.00000e+00   0.00000e+00\n",
            "   4  cb_width     1.70000e+01   4.20000e+00   0.00000e+00   0.00000e+00\n",
            "   5  exponent    -2.00000e-02   4.00000e-01   0.00000e+00   0.00000e+00\n",
            "   6  gauss_mean   5.27000e+03   8.00000e+00   0.00000e+00   0.00000e+00\n",
            "                               ERR DEF= 0.5\n",
            " MIGRAD MINIMIZATION HAS CONVERGED.\n",
            " MIGRAD WILL VERIFY CONVERGENCE AND ERROR MATRIX.\n",
            " MINUIT WARNING IN HESSE\n",
            " ============== Second derivative zero for parameter1\n",
            "  MNHESS FAILS AND WILL RETURN DIAGONAL MATRIX. \n",
            " FCN=0 FROM HESSE     STATUS=FAILED          3 CALLS         281 TOTAL\n",
            "                     EDM=0    STRATEGY= 1  ERROR MATRIX UNCERTAINTY 100.0 per cent\n",
            "  EXT PARAMETER                APPROXIMATE        STEP         FIRST   \n",
            "  NO.   NAME      VALUE            ERROR          SIZE      DERIVATIVE \n",
            "   1  B_Mass       5.25000e+03   4.20735e+01   0.00000e+00   0.00000e+00\n",
            "   2  cb_alpha     1.00000e+00   1.68294e+00   0.00000e+00   0.00000e+00\n",
            "   3  cb_n         1.00000e+00   3.14850e+00   0.00000e+00   0.00000e+00\n",
            "   4  cb_width     1.70000e+01   1.45016e+01   0.00000e+00   0.00000e+00\n",
            "   5  exponent    -2.00000e-02   1.68286e+00   0.00000e+00   0.00000e+00\n",
            "   6  gauss_mean   5.27000e+03   3.25900e+01   0.00000e+00   0.00000e+00\n",
            "                               ERR DEF= 0.5\n",
            " MIGRAD MINIMIZATION HAS CONVERGED.\n",
            " MIGRAD WILL VERIFY CONVERGENCE AND ERROR MATRIX.\n",
            " MINUIT WARNING IN HESSE\n",
            " ============== Second derivative zero for parameter1\n",
            "  MNHESS FAILS AND WILL RETURN DIAGONAL MATRIX. \n",
            " FCN=0 FROM MIGRAD    STATUS=CONVERGED     283 CALLS         284 TOTAL\n",
            "                     EDM=0    STRATEGY= 1  ERROR MATRIX UNCERTAINTY 100.0 per cent\n",
            "  EXT PARAMETER                APPROXIMATE        STEP         FIRST   \n",
            "  NO.   NAME      VALUE            ERROR          SIZE      DERIVATIVE \n",
            "   1  B_Mass       5.25000e+03   4.20735e+01   0.00000e+00   0.00000e+00\n",
            "   2  cb_alpha     1.00000e+00   1.68294e+00   0.00000e+00   0.00000e+00\n",
            "   3  cb_n         1.00000e+00   3.14850e+00   0.00000e+00   0.00000e+00\n",
            "   4  cb_width     1.70000e+01   1.45016e+01   0.00000e+00   0.00000e+00\n",
            "   5  exponent    -2.00000e-02   1.68286e+00   0.00000e+00   0.00000e+00\n",
            "   6  gauss_mean   5.27000e+03   3.25900e+01   0.00000e+00   0.00000e+00\n",
            "                               ERR DEF= 0.5\n",
            " EXTERNAL ERROR MATRIX.    NDIM=  25    NPAR=  6    ERR DEF=0.5\n",
            "  2.500e+03  0.000e+00  0.000e+00  0.000e+00  0.000e+00  0.000e+00 \n",
            "  0.000e+00  4.000e+00  0.000e+00  0.000e+00  0.000e+00  0.000e+00 \n",
            "  0.000e+00  0.000e+00  1.400e+01  0.000e+00  0.000e+00  0.000e+00 \n",
            "  0.000e+00  0.000e+00  0.000e+00  2.970e+02  0.000e+00  0.000e+00 \n",
            "  0.000e+00  0.000e+00  0.000e+00  0.000e+00  4.000e+00  0.000e+00 \n",
            "  0.000e+00  0.000e+00  0.000e+00  0.000e+00  0.000e+00  1.500e+03 \n",
            "ERR MATRIX APPROXIMATE\n",
            " PARAMETER  CORRELATION COEFFICIENTS  \n",
            "       NO.  GLOBAL      1      2      3      4      5      6\n",
            "        1  0.00000   1.000  0.000  0.000  0.000  0.000  0.000\n",
            "        2  0.00000   0.000  1.000  0.000  0.000  0.000  0.000\n",
            "        3  0.00000   0.000  0.000  1.000  0.000  0.000  0.000\n",
            "        4  0.00000   0.000  0.000  0.000  1.000  0.000  0.000\n",
            "        5  0.00000   0.000  0.000  0.000  0.000  1.000  0.000\n",
            "        6  0.00000   0.000  0.000  0.000  0.000  0.000  1.000\n",
            " ERR MATRIX APPROXIMATE\n",
            " **********\n",
            " **    7 **HESSE        3000\n",
            " **********\n",
            " MINUIT WARNING IN HESSE\n",
            " ============== Second derivative zero for parameter1\n",
            "  MNHESS FAILS AND WILL RETURN DIAGONAL MATRIX. \n",
            " FCN=0 FROM HESSE     STATUS=FAILED          3 CALLS         287 TOTAL\n",
            "                     EDM=0    STRATEGY= 1  ERROR MATRIX UNCERTAINTY 100.0 per cent\n",
            "  EXT PARAMETER                APPROXIMATE     INTERNAL      INTERNAL  \n",
            "  NO.   NAME      VALUE            ERROR       STEP SIZE       VALUE   \n",
            "   1  B_Mass       5.22603e+03   4.20735e+01   0.00000e+00   0.00000e+00\n",
            "   2  cb_alpha     1.00000e+00   1.68294e+00   0.00000e+00  -6.43501e-01\n",
            "   3  cb_n         1.00000e+00   3.14850e+00   0.00000e+00  -1.04848e+00\n",
            "   4  cb_width     1.70000e+01   1.45016e+01   0.00000e+00  -6.08246e-01\n",
            "   5  exponent    -2.00000e-02   1.68286e+00   0.00000e+00  -1.00002e-02\n",
            "   6  gauss_mean   5.27000e+03   3.25900e+01   0.00000e+00   2.52680e-01\n",
            "                               ERR DEF= 0.5\n",
            " EXTERNAL ERROR MATRIX.    NDIM=  25    NPAR=  6    ERR DEF=0.5\n",
            "  2.500e+03  0.000e+00  0.000e+00  0.000e+00  0.000e+00  0.000e+00 \n",
            "  0.000e+00  4.000e+00  0.000e+00  0.000e+00  0.000e+00  0.000e+00 \n",
            "  0.000e+00  0.000e+00  1.400e+01  0.000e+00  0.000e+00  0.000e+00 \n",
            "  0.000e+00  0.000e+00  0.000e+00  2.970e+02  0.000e+00  0.000e+00 \n",
            "  0.000e+00  0.000e+00  0.000e+00  0.000e+00  4.000e+00  0.000e+00 \n",
            "  0.000e+00  0.000e+00  0.000e+00  0.000e+00  0.000e+00  1.500e+03 \n",
            "ERR MATRIX APPROXIMATE\n",
            " PARAMETER  CORRELATION COEFFICIENTS  \n",
            "       NO.  GLOBAL      1      2      3      4      5      6\n",
            "        1  0.00000   1.000  0.000  0.000  0.000  0.000  0.000\n",
            "        2  0.00000   0.000  1.000  0.000  0.000  0.000  0.000\n",
            "        3  0.00000   0.000  0.000  1.000  0.000  0.000  0.000\n",
            "        4  0.00000   0.000  0.000  0.000  1.000  0.000  0.000\n",
            "        5  0.00000   0.000  0.000  0.000  0.000  1.000  0.000\n",
            "        6  0.00000   0.000  0.000  0.000  0.000  0.000  1.000\n",
            " ERR MATRIX APPROXIMATE\n",
            " **********\n",
            " **    8 **SET ERR         0.5\n",
            " **********\n",
            " **********\n",
            " **    9 **SET PRINT           1\n",
            " **********\n",
            " **********\n",
            " **   10 **HESSE        3000\n",
            " **********\n",
            " MINUIT WARNING IN HESSE\n",
            " ============== Second derivative zero for parameter1\n",
            "  MNHESS FAILS AND WILL RETURN DIAGONAL MATRIX. \n",
            " FCN=0 FROM HESSE     STATUS=FAILED          3 CALLS         290 TOTAL\n",
            "                     EDM=0    STRATEGY= 1  ERROR MATRIX UNCERTAINTY 100.0 per cent\n",
            "  EXT PARAMETER                APPROXIMATE     INTERNAL      INTERNAL  \n",
            "  NO.   NAME      VALUE            ERROR       STEP SIZE       VALUE   \n",
            "   1  B_Mass       5.22603e+03   4.20735e+01   0.00000e+00   0.00000e+00\n",
            "   2  cb_alpha     1.00000e+00   1.68294e+00   0.00000e+00  -6.43501e-01\n",
            "   3  cb_n         1.00000e+00   3.14850e+00   0.00000e+00  -1.04848e+00\n",
            "   4  cb_width     1.70000e+01   1.45016e+01   0.00000e+00  -6.08246e-01\n",
            "   5  exponent    -2.00000e-02   1.68286e+00   0.00000e+00  -1.00002e-02\n",
            "   6  gauss_mean   5.27000e+03   3.25900e+01   0.00000e+00   2.52680e-01\n",
            "                               ERR DEF= 0.5\n",
            " EXTERNAL ERROR MATRIX.    NDIM=  25    NPAR=  6    ERR DEF=0.5\n",
            "  2.500e+03  0.000e+00  0.000e+00  0.000e+00  0.000e+00  0.000e+00 \n",
            "  0.000e+00  4.000e+00  0.000e+00  0.000e+00  0.000e+00  0.000e+00 \n",
            "  0.000e+00  0.000e+00  1.400e+01  0.000e+00  0.000e+00  0.000e+00 \n",
            "  0.000e+00  0.000e+00  0.000e+00  2.970e+02  0.000e+00  0.000e+00 \n",
            "  0.000e+00  0.000e+00  0.000e+00  0.000e+00  4.000e+00  0.000e+00 \n",
            "  0.000e+00  0.000e+00  0.000e+00  0.000e+00  0.000e+00  1.500e+03 \n",
            "ERR MATRIX APPROXIMATE\n",
            " PARAMETER  CORRELATION COEFFICIENTS  \n",
            "       NO.  GLOBAL      1      2      3      4      5      6\n",
            "        1  0.00000   1.000  0.000  0.000  0.000  0.000  0.000\n",
            "        2  0.00000   0.000  1.000  0.000  0.000  0.000  0.000\n",
            "        3  0.00000   0.000  0.000  1.000  0.000  0.000  0.000\n",
            "        4  0.00000   0.000  0.000  0.000  1.000  0.000  0.000\n",
            "        5  0.00000   0.000  0.000  0.000  0.000  1.000  0.000\n",
            "        6  0.00000   0.000  0.000  0.000  0.000  0.000  1.000\n",
            " ERR MATRIX APPROXIMATE\n",
            "[#1] INFO:Minization -- RooMinimizer::optimizeConst: deactivating const optimization\n",
            "[#0] WARNING:Eval -- RooAddPdf::updateCoefCache(Full Model WARNING: sum of PDF coefficients not in range [0-1], value=5005[#0] WARNING:Eval -- \n",
            "[#0] ERROR:InputArguments -- RooDataHist::Name:plotOn: dataset doesn't contain plot frame variable\n"
          ],
          "name": "stdout"
        },
        {
          "output_type": "stream",
          "text": [
            "Error in <TTreeFormula::Compile>:  Bad numerical expression : \"B_Mass\"\n",
            "Info in <TSelectorDraw::AbortProcess>: Variable compilation failed: {B_Mass,}\n",
            "Warning in <TCanvas::Constructor>: Deleting canvas with same name: c1\n"
          ],
          "name": "stderr"
        },
        {
          "output_type": "display_data",
          "data": {
            "image/png": "[encoded data removed]",
            "text/plain": [
              "<IPython.core.display.Image object>"
            ]
          },
          "metadata": {
            "tags": []
          }
        }
      ]
    },
    {
      "cell_type": "code",
      "metadata": {
        "id": "ae29Ma7xDwWx",
        "colab_type": "code",
        "colab": {}
      },
      "source": [
        "print(signal_yield1)\n",
        "print(signal_yield2)\n",
        "print(signal_yield3)"
      ],
      "execution_count": 0,
      "outputs": []
    },
    {
      "cell_type": "markdown",
      "metadata": {
        "id": "yNseYWhaPv83",
        "colab_type": "text"
      },
      "source": [
        "So how good was the fit, and how many events do you have?\n",
        "\n",
        "We can use the .getValV() function on our signal and background components, e.g. signal_yield=Gauss.getValV()\n",
        "\n",
        "To find the error (on this number) we can use .getError()\n",
        "\n",
        "Neither of these measures would tell us if this was a good fit or not. Normally we use a $\\chi^2$ test to do so - this is built into the image we made (so we can do frame.chiSquare() to get this data)\n",
        "\n",
        "For each model you made, print the signal and background yields (with errors) and report the $\\chi^2$"
      ]
    },
    {
      "cell_type": "markdown",
      "metadata": {
        "id": "RzGx0z0FQUTh",
        "colab_type": "text"
      },
      "source": [
        "#Counting\n",
        "\n",
        "So we have now loaded our data; we have reconstructed information about the mother B meson and we have cut away any data which looks like it might not be what we are looking for. We have then plotted histograms of the mass of the B meson and used this to fit a model, a function to describe the events there. We now have to identify which of our events belong to the B+ and how many of them belong to B-.\n",
        "\n",
        "To do this, should split out data into two groups (and throw away data which doesn't comply with either decay)\n",
        "\n",
        "We will be looking for the events which are\n",
        "\n",
        "B+->K+ + K+ + K-\n",
        "\n",
        "or\n",
        "\n",
        "B-->K- + K- + K+\n",
        "\n",
        "We can look for the number of positive and negative charges in H1, H2 and H3 (using the variable H1_Charge). If we have 0 or 3 positive charges, we should throw the event away and if we have 1 it should be assigned be a B-, with 2 it should be a B+\n",
        "\n",
        "Once we have defined if it's a B+ or a B -, we should go ahead and ensure the pre-selection is applied and then plot our B mass, and fit the model to find the yield.\n",
        "\n",
        "We can then calculate the assymetry from this equation:\n",
        "\n",
        "$A=\\frac{(N^{B-}-N^{B+})}{(N^{B-}+N^{B+})}$\n",
        "\n",
        "Where NB+/- is the number of events found from the fitted yield of the signal from each data set.\n",
        "\n",
        "The uncertainty on this result is given by:\n",
        "\n",
        "$\\sigma_A=\\sqrt\\frac{1-A^2}{N^{B-}+N^{B+}}$\n",
        "\n",
        "Calculate these two values for your data and print them below:"
      ]
    },
    {
      "cell_type": "code",
      "metadata": {
        "id": "pHmjRG2fQ_B1",
        "colab_type": "code",
        "colab": {}
      },
      "source": [
        "def tot_charge():\n",
        "  return \"(H1_Charge)+(H2_Charge)+(H3_Charge)\"\n",
        "\n",
        "#Then we open the ROOT file using the TFile command.\n",
        "f = ROOT.TFile.Open(\"DATA/B2HHH_MagnetUp.root\", \"READONLY\")\n",
        "#From our file, we have to extract the DecayTree \n",
        "tree=f.Get(\"DecayTree\")\n",
        "# Now we create a canvas, plot our data onto the canvas and draw it:\n",
        "\n",
        "c = ROOT.TCanvas(\"myCanvasName9\",\"The Canvas Title\",800,600)\n",
        "#This string (below) is the total momentum of the H1 particle\n",
        "tree.Draw(tot_charge()+\">>histogram1(100,-3,3)\")\n",
        "#tree.Draw(\"sqrt((H1_PX**2)+(H1_PY**2)+(H1_PZ**2))+>>histogram1,100\")\n",
        "histogram1 = ROOT.gDirectory.Get(\"histogram1\")\n",
        "histogram1.Draw()\n",
        "#Show me the canvas\n",
        "c.Draw()"
      ],
      "execution_count": 0,
      "outputs": []
    },
    {
      "cell_type": "code",
      "metadata": {
        "id": "OeotsPp7d3SF",
        "colab_type": "code",
        "colab": {}
      },
      "source": [
        "def pos():\n",
        "  selection=(\"((H1_Charge)+(H2_Charge)+(H3_Charge)) == 1\")\n",
        "  return selection\n",
        "\n",
        "def neg():\n",
        "  selection=(\"((H1_Charge)+(H2_Charge)+(H3_Charge)) == - 1\")\n",
        "  return selection\n",
        "\n",
        "def assymetry():\n",
        "   return \"(\" +pos()+\"-\"+neg()+\")/(\"+pos()+\"+\"+neg()+\")\"\n",
        "\n",
        "#Then we open the ROOT file using the TFile command.\n",
        "f = ROOT.TFile.Open(\"DATA/B2HHH_MagnetUp.root\", \"READONLY\")\n",
        "#From our file, we have to extract the DecayTree \n",
        "tree=f.Get(\"DecayTree\")\n",
        "CutTree=tree.CopyTree(selection)\n",
        "# Now we create a canvas, plot our data onto the canvas and draw it:\n",
        "\n",
        "c = ROOT.TCanvas(\"myCanvasName9\",\"The Canvas Title\",800,600)\n",
        "#This string (below) is the total momentum of the H1 particle\n",
        "tree.Draw(assymetry()+\">>histogram1(100,-1000,1000)\")\n",
        "#tree.Draw(\"sqrt((H1_PX**2)+(H1_PY**2)+(H1_PZ**2))+>>histogram1,100\")\n",
        "histogram1 = ROOT.gDirectory.Get(\"histogram1\")\n",
        "histogram1.Draw()\n",
        "#Show me the canvas\n",
        "c.Draw()"
      ],
      "execution_count": 0,
      "outputs": []
    }
  ]
}